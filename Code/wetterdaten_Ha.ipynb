{
 "cells": [
  {
   "attachments": {},
   "cell_type": "markdown",
   "metadata": {},
   "source": [
    "# Get weather data"
   ]
  },
  {
   "attachments": {},
   "cell_type": "markdown",
   "metadata": {},
   "source": [
    "## Imports and functions"
   ]
  },
  {
   "cell_type": "code",
   "execution_count": null,
   "metadata": {},
   "outputs": [],
   "source": [
    "import pandas as pd\n",
    "import numpy as np\n",
    "\n",
    "# Import Meteostat library and dependencies\n",
    "from datetime import datetime\n",
    "import matplotlib.pyplot as plt\n",
    "from meteostat import Point, Daily"
   ]
  },
  {
   "cell_type": "code",
   "execution_count": null,
   "metadata": {},
   "outputs": [],
   "source": [
    "def get_time_period(df):\n",
    "    year = df['year']\n",
    "\n",
    "    start_month = int(4) if int(df['location']) == 1 else int(10)\n",
    "    start = datetime(year, start_month, 1)\n",
    "\n",
    "    end_month = int(10) if int(df['location']) == 1 else int(4)\n",
    "    end_day = int(31) if int(df['location']) == 1 else int(30)\n",
    "    end = datetime(year, end_month, end_day)\n",
    "\n",
    "    return (start, end)"
   ]
  },
  {
   "cell_type": "code",
   "execution_count": null,
   "metadata": {},
   "outputs": [],
   "source": [
    "def get_temp_data(df):\n",
    "    for index, row in df.iterrows():\n",
    "        start, end = get_time_period(row)\n",
    "        row_lat = float(row['lat'])\n",
    "        row_lon = float(row['lon'])\n",
    "        regions = Point(row_lat,row_lon)\n",
    "\n",
    "        data = Daily(regions, start, end)\n",
    "        data = data.fetch()\n",
    "\n",
    "        data = data[['tavg', 'tmin', 'tmax', 'prcp', 'wspd', 'wpgt', 'tsun']]\n",
    "\n",
    "        avg_temp = data['tavg'].mean()\n",
    "        min_temp = data['tmin'].mean()\n",
    "        max_temp = data['tmax'].mean()\n",
    "        precipitation = data['prcp'].mean()\n",
    "        wind_speed = data['wspd'].mean()\n",
    "        wind_peak = data['wpgt'].mean()\n",
    "        sunshine = data['tsun'].mean()\n",
    "\n",
    "        df.at[index, 'avg_temp'] = avg_temp\n",
    "        df.at[index, 'min_temp'] = min_temp\n",
    "        df.at[index, 'max_temp'] = max_temp\n",
    "        df.at[index, 'precipitation_in_mm'] = precipitation\n",
    "        df.at[index, 'wind_average_kmh'] = wind_speed\n",
    "        df.at[index, 'wind_peak_kmh'] = wind_peak\n",
    "        df.at[index, 'sun_minutes'] = sunshine\n",
    "        \n",
    "    return df"
   ]
  },
  {
   "cell_type": "code",
   "execution_count": null,
   "metadata": {},
   "outputs": [],
   "source": [
    "def fix_geo_data(df, point):\n",
    "    df['lat'] = df['lat'].replace(df['lat'].iloc[0], point._lat)\n",
    "    df['lon'] = df['lon'].replace(df['lon'].iloc[0], point._lon)\n",
    "\n",
    "    return df"
   ]
  },
  {
   "cell_type": "markdown",
   "metadata": {},
   "source": [
    "## Import csvs\n",
    "- winemag-data-130k-v2+extract.csv\n",
    "- winemag-data-130k-v2+geo.csv"
   ]
  },
  {
   "cell_type": "code",
   "execution_count": null,
   "metadata": {},
   "outputs": [],
   "source": [
    "df = pd.read_csv('../Data/winemag-data-130k-v2+extract.csv', sep=';')"
   ]
  },
  {
   "cell_type": "code",
   "execution_count": null,
   "metadata": {},
   "outputs": [],
   "source": [
    "df = df[['country','province','region_1','year']]"
   ]
  },
  {
   "cell_type": "code",
   "execution_count": null,
   "metadata": {},
   "outputs": [],
   "source": [
    "df_geo = pd.read_csv('../Data/winemag-data-130k-v2+geo.csv', sep=';', index_col=0)"
   ]
  },
  {
   "cell_type": "code",
   "execution_count": null,
   "metadata": {},
   "outputs": [],
   "source": [
    "df_geo = df_geo[['lat','lon']]"
   ]
  },
  {
   "cell_type": "code",
   "execution_count": null,
   "metadata": {},
   "outputs": [],
   "source": [
    "# will perform left join\n",
    "result = df.join(df_geo)"
   ]
  },
  {
   "cell_type": "code",
   "execution_count": null,
   "metadata": {},
   "outputs": [],
   "source": [
    "result.info()"
   ]
  },
  {
   "attachments": {},
   "cell_type": "markdown",
   "metadata": {},
   "source": [
    "### Drop duplicates"
   ]
  },
  {
   "cell_type": "code",
   "execution_count": null,
   "metadata": {},
   "outputs": [],
   "source": [
    "result = result.drop_duplicates()"
   ]
  },
  {
   "cell_type": "code",
   "execution_count": null,
   "metadata": {},
   "outputs": [],
   "source": [
    "result.info()"
   ]
  },
  {
   "attachments": {},
   "cell_type": "markdown",
   "metadata": {},
   "source": [
    "### Subset - year between 1990 and 2017"
   ]
  },
  {
   "cell_type": "code",
   "execution_count": null,
   "metadata": {},
   "outputs": [],
   "source": [
    "result_year = result[(result[\"year\"] >= 1990) & (result[\"year\"] <= 2023)]"
   ]
  },
  {
   "cell_type": "code",
   "execution_count": null,
   "metadata": {},
   "outputs": [],
   "source": [
    "print(result_year.isnull().sum())"
   ]
  },
  {
   "cell_type": "markdown",
   "metadata": {},
   "source": [
    "### Drop NA values"
   ]
  },
  {
   "cell_type": "code",
   "execution_count": null,
   "metadata": {},
   "outputs": [],
   "source": [
    "df_year = result_year[result_year['lat'].notna()]"
   ]
  },
  {
   "cell_type": "code",
   "execution_count": null,
   "metadata": {},
   "outputs": [],
   "source": [
    "df_year.reset_index(inplace=True, drop=True)"
   ]
  },
  {
   "cell_type": "code",
   "execution_count": null,
   "metadata": {},
   "outputs": [],
   "source": [
    "df_year.info()"
   ]
  },
  {
   "cell_type": "markdown",
   "metadata": {},
   "source": [
    "### Fix data types"
   ]
  },
  {
   "cell_type": "code",
   "execution_count": null,
   "metadata": {},
   "outputs": [],
   "source": [
    "df_year['year'] = df_year['year'].astype('int')"
   ]
  },
  {
   "cell_type": "code",
   "execution_count": null,
   "metadata": {},
   "outputs": [],
   "source": [
    "final_tb = df_year\n",
    "final_tb.info()"
   ]
  },
  {
   "attachments": {},
   "cell_type": "markdown",
   "metadata": {},
   "source": [
    "### Add new column \"location\""
   ]
  },
  {
   "cell_type": "code",
   "execution_count": null,
   "metadata": {},
   "outputs": [],
   "source": [
    "# check if location is in north or south of the earth\n",
    "lat_list = final_tb['lat']\n",
    "location = []\n",
    "for n in lat_list:\n",
    "    if n >= 0:\n",
    "        location.append(1)\n",
    "    else:\n",
    "        location.append(0)\n",
    "\n",
    "final_tb['location'] = location\n",
    "final_tb['location'] = final_tb['location'].astype('int')"
   ]
  },
  {
   "cell_type": "code",
   "execution_count": null,
   "metadata": {},
   "outputs": [],
   "source": [
    "final_tb.to_csv(\"../Data/resource_table.csv\")"
   ]
  },
  {
   "attachments": {},
   "cell_type": "markdown",
   "metadata": {},
   "source": [
    "## Get temperature data"
   ]
  },
  {
   "cell_type": "code",
   "execution_count": null,
   "metadata": {},
   "outputs": [],
   "source": [
    "final_tb = pd.read_csv(\"../Data/resource_table.csv\", index_col=0)"
   ]
  },
  {
   "attachments": {},
   "cell_type": "markdown",
   "metadata": {},
   "source": [
    "### Test with an example"
   ]
  },
  {
   "cell_type": "code",
   "execution_count": null,
   "metadata": {},
   "outputs": [],
   "source": [
    "# Create Point for Vancouver, BC\n",
    "start, end = get_time_period(final_tb[7:8])\n",
    "vancouver = Point(49.2497, -123.1193, 70)"
   ]
  },
  {
   "cell_type": "code",
   "execution_count": null,
   "metadata": {},
   "outputs": [],
   "source": [
    "# Get daily data for year of first_row\n",
    "data = Daily(vancouver, start, end)\n",
    "data = data.fetch()"
   ]
  },
  {
   "cell_type": "code",
   "execution_count": null,
   "metadata": {},
   "outputs": [],
   "source": [
    "data"
   ]
  },
  {
   "cell_type": "code",
   "execution_count": null,
   "metadata": {},
   "outputs": [],
   "source": [
    "avg_temp = data['tavg'].mean()\n",
    "avg_temp"
   ]
  },
  {
   "cell_type": "code",
   "execution_count": null,
   "metadata": {},
   "outputs": [],
   "source": [
    "min_temp = data['tmin'].min()\n",
    "min_temp"
   ]
  },
  {
   "cell_type": "code",
   "execution_count": null,
   "metadata": {},
   "outputs": [],
   "source": [
    "max_temp = data['tmax'].max()\n",
    "max_temp"
   ]
  },
  {
   "attachments": {},
   "cell_type": "markdown",
   "metadata": {},
   "source": [
    "### Get data with function"
   ]
  },
  {
   "cell_type": "code",
   "execution_count": null,
   "metadata": {},
   "outputs": [],
   "source": [
    "data = final_tb[7:8]\n",
    "result = get_temp_data(data)\n",
    "result.info()"
   ]
  },
  {
   "cell_type": "code",
   "execution_count": null,
   "metadata": {},
   "outputs": [],
   "source": [
    "final_tb = get_temp_data(final_tb)\n",
    "final_tb"
   ]
  },
  {
   "cell_type": "code",
   "execution_count": null,
   "metadata": {},
   "outputs": [],
   "source": [
    "final_tb.head(30)"
   ]
  },
  {
   "attachments": {},
   "cell_type": "markdown",
   "metadata": {},
   "source": [
    "#### Check null values"
   ]
  },
  {
   "cell_type": "code",
   "execution_count": null,
   "metadata": {},
   "outputs": [],
   "source": [
    "final_tb[\"avg_temp\"].isnull().sum()"
   ]
  },
  {
   "cell_type": "code",
   "execution_count": null,
   "metadata": {},
   "outputs": [],
   "source": [
    "final_tb[\"sun_minutes\"].isnull().sum()"
   ]
  },
  {
   "cell_type": "code",
   "execution_count": null,
   "metadata": {},
   "outputs": [],
   "source": [
    "len(final_tb)"
   ]
  },
  {
   "cell_type": "code",
   "execution_count": null,
   "metadata": {},
   "outputs": [],
   "source": [
    "final_tb.to_csv('../Data/temp_table.csv')  "
   ]
  },
  {
   "attachments": {},
   "cell_type": "markdown",
   "metadata": {},
   "source": [
    "## Handling missing values"
   ]
  },
  {
   "cell_type": "code",
   "execution_count": 191,
   "metadata": {},
   "outputs": [],
   "source": [
    "final_tb = pd.read_csv('../Data/temp_table.csv', index_col=0) \n",
    "final_tb['location'] = final_tb['location'].astype('int')\n",
    "final_tb['year'] = final_tb['year'].astype('int')"
   ]
  },
  {
   "cell_type": "code",
   "execution_count": 192,
   "metadata": {},
   "outputs": [
    {
     "data": {
      "text/plain": [
       "country                   0\n",
       "province                  0\n",
       "region_1               1137\n",
       "year                      0\n",
       "lat                       0\n",
       "lon                       0\n",
       "location                  0\n",
       "avg_temp               3352\n",
       "min_temp               3348\n",
       "max_temp               3349\n",
       "precipitation_in_mm    3662\n",
       "wind_average_kmh       3501\n",
       "wind_peak_kmh          5021\n",
       "sun_minutes            4951\n",
       "dtype: int64"
      ]
     },
     "execution_count": 192,
     "metadata": {},
     "output_type": "execute_result"
    }
   ],
   "source": [
    "final_tb.isnull().sum()"
   ]
  },
  {
   "attachments": {},
   "cell_type": "markdown",
   "metadata": {},
   "source": [
    "### 1. Country = US & Province = California\n",
    "- Check, whether the given geo-coordinates work. If it doesn't work, we should find another geo-coordinates and run the temperature code\n",
    "    - Original geo-coordinates\n",
    "        - lat = 38.628683\n",
    "        - lon = -92.565963\n",
    "    - New geo-coordinates\n",
    "        - lat = 36.778259\n",
    "        - lon = -119.417931"
   ]
  },
  {
   "cell_type": "code",
   "execution_count": 193,
   "metadata": {},
   "outputs": [
    {
     "name": "stderr",
     "output_type": "stream",
     "text": [
      "SettingWithCopyWarning: \n",
      "A value is trying to be set on a copy of a slice from a DataFrame.\n",
      "Try using .loc[row_indexer,col_indexer] = value instead\n",
      "\n",
      "See the caveats in the documentation: https://pandas.pydata.org/pandas-docs/stable/user_guide/indexing.html#returning-a-view-versus-a-copy\n",
      "SettingWithCopyWarning: \n",
      "A value is trying to be set on a copy of a slice from a DataFrame.\n",
      "Try using .loc[row_indexer,col_indexer] = value instead\n",
      "\n",
      "See the caveats in the documentation: https://pandas.pydata.org/pandas-docs/stable/user_guide/indexing.html#returning-a-view-versus-a-copy\n"
     ]
    }
   ],
   "source": [
    "wrong_geo = final_tb[(final_tb[\"province\"] == \"California\") & (final_tb['avg_temp'].isna() ==True)]\n",
    "fix_geo_data(wrong_geo, Point(36.778259,-119.417931))\n",
    "final_tb.update(wrong_geo)"
   ]
  },
  {
   "cell_type": "code",
   "execution_count": 194,
   "metadata": {},
   "outputs": [
    {
     "data": {
      "text/html": [
       "<div>\n",
       "<style scoped>\n",
       "    .dataframe tbody tr th:only-of-type {\n",
       "        vertical-align: middle;\n",
       "    }\n",
       "\n",
       "    .dataframe tbody tr th {\n",
       "        vertical-align: top;\n",
       "    }\n",
       "\n",
       "    .dataframe thead th {\n",
       "        text-align: right;\n",
       "    }\n",
       "</style>\n",
       "<table border=\"1\" class=\"dataframe\">\n",
       "  <thead>\n",
       "    <tr style=\"text-align: right;\">\n",
       "      <th></th>\n",
       "      <th>country</th>\n",
       "      <th>province</th>\n",
       "      <th>region_1</th>\n",
       "      <th>year</th>\n",
       "      <th>lat</th>\n",
       "      <th>lon</th>\n",
       "      <th>location</th>\n",
       "      <th>avg_temp</th>\n",
       "      <th>min_temp</th>\n",
       "      <th>max_temp</th>\n",
       "      <th>precipitation_in_mm</th>\n",
       "      <th>wind_average_kmh</th>\n",
       "      <th>wind_peak_kmh</th>\n",
       "      <th>sun_minutes</th>\n",
       "    </tr>\n",
       "  </thead>\n",
       "  <tbody>\n",
       "    <tr>\n",
       "      <th>8</th>\n",
       "      <td>US</td>\n",
       "      <td>California</td>\n",
       "      <td>Napa Valley</td>\n",
       "      <td>2011.0</td>\n",
       "      <td>36.778259</td>\n",
       "      <td>-119.417931</td>\n",
       "      <td>1.0</td>\n",
       "      <td>NaN</td>\n",
       "      <td>NaN</td>\n",
       "      <td>NaN</td>\n",
       "      <td>NaN</td>\n",
       "      <td>NaN</td>\n",
       "      <td>NaN</td>\n",
       "      <td>NaN</td>\n",
       "    </tr>\n",
       "    <tr>\n",
       "      <th>9</th>\n",
       "      <td>US</td>\n",
       "      <td>California</td>\n",
       "      <td>Alexander Valley</td>\n",
       "      <td>2012.0</td>\n",
       "      <td>36.778259</td>\n",
       "      <td>-119.417931</td>\n",
       "      <td>1.0</td>\n",
       "      <td>NaN</td>\n",
       "      <td>NaN</td>\n",
       "      <td>NaN</td>\n",
       "      <td>NaN</td>\n",
       "      <td>NaN</td>\n",
       "      <td>NaN</td>\n",
       "      <td>NaN</td>\n",
       "    </tr>\n",
       "    <tr>\n",
       "      <th>11</th>\n",
       "      <td>US</td>\n",
       "      <td>California</td>\n",
       "      <td>Central Coast</td>\n",
       "      <td>2012.0</td>\n",
       "      <td>36.778259</td>\n",
       "      <td>-119.417931</td>\n",
       "      <td>1.0</td>\n",
       "      <td>NaN</td>\n",
       "      <td>NaN</td>\n",
       "      <td>NaN</td>\n",
       "      <td>NaN</td>\n",
       "      <td>NaN</td>\n",
       "      <td>NaN</td>\n",
       "      <td>NaN</td>\n",
       "    </tr>\n",
       "    <tr>\n",
       "      <th>16</th>\n",
       "      <td>US</td>\n",
       "      <td>California</td>\n",
       "      <td>Paso Robles</td>\n",
       "      <td>2011.0</td>\n",
       "      <td>36.778259</td>\n",
       "      <td>-119.417931</td>\n",
       "      <td>1.0</td>\n",
       "      <td>NaN</td>\n",
       "      <td>NaN</td>\n",
       "      <td>NaN</td>\n",
       "      <td>NaN</td>\n",
       "      <td>NaN</td>\n",
       "      <td>NaN</td>\n",
       "      <td>NaN</td>\n",
       "    </tr>\n",
       "    <tr>\n",
       "      <th>18</th>\n",
       "      <td>US</td>\n",
       "      <td>California</td>\n",
       "      <td>Sonoma Coast</td>\n",
       "      <td>2011.0</td>\n",
       "      <td>36.778259</td>\n",
       "      <td>-119.417931</td>\n",
       "      <td>1.0</td>\n",
       "      <td>NaN</td>\n",
       "      <td>NaN</td>\n",
       "      <td>NaN</td>\n",
       "      <td>NaN</td>\n",
       "      <td>NaN</td>\n",
       "      <td>NaN</td>\n",
       "      <td>NaN</td>\n",
       "    </tr>\n",
       "    <tr>\n",
       "      <th>...</th>\n",
       "      <td>...</td>\n",
       "      <td>...</td>\n",
       "      <td>...</td>\n",
       "      <td>...</td>\n",
       "      <td>...</td>\n",
       "      <td>...</td>\n",
       "      <td>...</td>\n",
       "      <td>...</td>\n",
       "      <td>...</td>\n",
       "      <td>...</td>\n",
       "      <td>...</td>\n",
       "      <td>...</td>\n",
       "      <td>...</td>\n",
       "      <td>...</td>\n",
       "    </tr>\n",
       "    <tr>\n",
       "      <th>5060</th>\n",
       "      <td>US</td>\n",
       "      <td>California</td>\n",
       "      <td>Contra Costa County</td>\n",
       "      <td>2008.0</td>\n",
       "      <td>36.778259</td>\n",
       "      <td>-119.417931</td>\n",
       "      <td>1.0</td>\n",
       "      <td>NaN</td>\n",
       "      <td>NaN</td>\n",
       "      <td>NaN</td>\n",
       "      <td>NaN</td>\n",
       "      <td>NaN</td>\n",
       "      <td>NaN</td>\n",
       "      <td>NaN</td>\n",
       "    </tr>\n",
       "    <tr>\n",
       "      <th>5062</th>\n",
       "      <td>US</td>\n",
       "      <td>California</td>\n",
       "      <td>Napa-Sonoma</td>\n",
       "      <td>2008.0</td>\n",
       "      <td>36.778259</td>\n",
       "      <td>-119.417931</td>\n",
       "      <td>1.0</td>\n",
       "      <td>NaN</td>\n",
       "      <td>NaN</td>\n",
       "      <td>NaN</td>\n",
       "      <td>NaN</td>\n",
       "      <td>NaN</td>\n",
       "      <td>NaN</td>\n",
       "      <td>NaN</td>\n",
       "    </tr>\n",
       "    <tr>\n",
       "      <th>5065</th>\n",
       "      <td>US</td>\n",
       "      <td>California</td>\n",
       "      <td>San Francisco Bay-Livermore Valley</td>\n",
       "      <td>2009.0</td>\n",
       "      <td>36.778259</td>\n",
       "      <td>-119.417931</td>\n",
       "      <td>1.0</td>\n",
       "      <td>NaN</td>\n",
       "      <td>NaN</td>\n",
       "      <td>NaN</td>\n",
       "      <td>NaN</td>\n",
       "      <td>NaN</td>\n",
       "      <td>NaN</td>\n",
       "      <td>NaN</td>\n",
       "    </tr>\n",
       "    <tr>\n",
       "      <th>5069</th>\n",
       "      <td>US</td>\n",
       "      <td>California</td>\n",
       "      <td>San Antonio Valley</td>\n",
       "      <td>2009.0</td>\n",
       "      <td>36.778259</td>\n",
       "      <td>-119.417931</td>\n",
       "      <td>1.0</td>\n",
       "      <td>NaN</td>\n",
       "      <td>NaN</td>\n",
       "      <td>NaN</td>\n",
       "      <td>NaN</td>\n",
       "      <td>NaN</td>\n",
       "      <td>NaN</td>\n",
       "      <td>NaN</td>\n",
       "    </tr>\n",
       "    <tr>\n",
       "      <th>5073</th>\n",
       "      <td>US</td>\n",
       "      <td>California</td>\n",
       "      <td>Chiles Valley</td>\n",
       "      <td>2011.0</td>\n",
       "      <td>36.778259</td>\n",
       "      <td>-119.417931</td>\n",
       "      <td>1.0</td>\n",
       "      <td>NaN</td>\n",
       "      <td>NaN</td>\n",
       "      <td>NaN</td>\n",
       "      <td>NaN</td>\n",
       "      <td>NaN</td>\n",
       "      <td>NaN</td>\n",
       "      <td>NaN</td>\n",
       "    </tr>\n",
       "  </tbody>\n",
       "</table>\n",
       "<p>1585 rows × 14 columns</p>\n",
       "</div>"
      ],
      "text/plain": [
       "     country    province                            region_1    year  \\\n",
       "8         US  California                         Napa Valley  2011.0   \n",
       "9         US  California                    Alexander Valley  2012.0   \n",
       "11        US  California                       Central Coast  2012.0   \n",
       "16        US  California                         Paso Robles  2011.0   \n",
       "18        US  California                        Sonoma Coast  2011.0   \n",
       "...      ...         ...                                 ...     ...   \n",
       "5060      US  California                 Contra Costa County  2008.0   \n",
       "5062      US  California                         Napa-Sonoma  2008.0   \n",
       "5065      US  California  San Francisco Bay-Livermore Valley  2009.0   \n",
       "5069      US  California                  San Antonio Valley  2009.0   \n",
       "5073      US  California                       Chiles Valley  2011.0   \n",
       "\n",
       "            lat         lon  location  avg_temp  min_temp  max_temp  \\\n",
       "8     36.778259 -119.417931       1.0       NaN       NaN       NaN   \n",
       "9     36.778259 -119.417931       1.0       NaN       NaN       NaN   \n",
       "11    36.778259 -119.417931       1.0       NaN       NaN       NaN   \n",
       "16    36.778259 -119.417931       1.0       NaN       NaN       NaN   \n",
       "18    36.778259 -119.417931       1.0       NaN       NaN       NaN   \n",
       "...         ...         ...       ...       ...       ...       ...   \n",
       "5060  36.778259 -119.417931       1.0       NaN       NaN       NaN   \n",
       "5062  36.778259 -119.417931       1.0       NaN       NaN       NaN   \n",
       "5065  36.778259 -119.417931       1.0       NaN       NaN       NaN   \n",
       "5069  36.778259 -119.417931       1.0       NaN       NaN       NaN   \n",
       "5073  36.778259 -119.417931       1.0       NaN       NaN       NaN   \n",
       "\n",
       "      precipitation_in_mm  wind_average_kmh  wind_peak_kmh  sun_minutes  \n",
       "8                     NaN               NaN            NaN          NaN  \n",
       "9                     NaN               NaN            NaN          NaN  \n",
       "11                    NaN               NaN            NaN          NaN  \n",
       "16                    NaN               NaN            NaN          NaN  \n",
       "18                    NaN               NaN            NaN          NaN  \n",
       "...                   ...               ...            ...          ...  \n",
       "5060                  NaN               NaN            NaN          NaN  \n",
       "5062                  NaN               NaN            NaN          NaN  \n",
       "5065                  NaN               NaN            NaN          NaN  \n",
       "5069                  NaN               NaN            NaN          NaN  \n",
       "5073                  NaN               NaN            NaN          NaN  \n",
       "\n",
       "[1585 rows x 14 columns]"
      ]
     },
     "execution_count": 194,
     "metadata": {},
     "output_type": "execute_result"
    }
   ],
   "source": [
    "final_tb[(final_tb[\"country\"] == \"US\") & (final_tb[\"province\"] ==\"California\")]"
   ]
  },
  {
   "attachments": {},
   "cell_type": "markdown",
   "metadata": {},
   "source": [
    "### 2. Country = Italy & Province = Sicily & Sardinia\n",
    "- Check, whether the given geo-coordinates work. If it doesn't work, we should find another geo-coordinates and run the temperature code\n",
    "\n",
    "    - Original geo-coordinates\n",
    "        - lat = 40.047396\n",
    "        - lon = 8.286983\n",
    "    - New geo-coordinates\n",
    "        - lat = 39.373062\n",
    "        - lon = 9.157212"
   ]
  },
  {
   "cell_type": "code",
   "execution_count": 195,
   "metadata": {},
   "outputs": [
    {
     "name": "stderr",
     "output_type": "stream",
     "text": [
      "SettingWithCopyWarning: \n",
      "A value is trying to be set on a copy of a slice from a DataFrame.\n",
      "Try using .loc[row_indexer,col_indexer] = value instead\n",
      "\n",
      "See the caveats in the documentation: https://pandas.pydata.org/pandas-docs/stable/user_guide/indexing.html#returning-a-view-versus-a-copy\n",
      "SettingWithCopyWarning: \n",
      "A value is trying to be set on a copy of a slice from a DataFrame.\n",
      "Try using .loc[row_indexer,col_indexer] = value instead\n",
      "\n",
      "See the caveats in the documentation: https://pandas.pydata.org/pandas-docs/stable/user_guide/indexing.html#returning-a-view-versus-a-copy\n"
     ]
    }
   ],
   "source": [
    "wrong_geo = final_tb[(final_tb[\"province\"] == \"Sicily & Sardinia\") & (final_tb['avg_temp'].isna() ==True)]\n",
    "fix_geo_data(wrong_geo, Point(39.373062,9.157212))\n",
    "final_tb.update(wrong_geo)"
   ]
  },
  {
   "cell_type": "code",
   "execution_count": 196,
   "metadata": {},
   "outputs": [
    {
     "data": {
      "text/html": [
       "<div>\n",
       "<style scoped>\n",
       "    .dataframe tbody tr th:only-of-type {\n",
       "        vertical-align: middle;\n",
       "    }\n",
       "\n",
       "    .dataframe tbody tr th {\n",
       "        vertical-align: top;\n",
       "    }\n",
       "\n",
       "    .dataframe thead th {\n",
       "        text-align: right;\n",
       "    }\n",
       "</style>\n",
       "<table border=\"1\" class=\"dataframe\">\n",
       "  <thead>\n",
       "    <tr style=\"text-align: right;\">\n",
       "      <th></th>\n",
       "      <th>country</th>\n",
       "      <th>province</th>\n",
       "      <th>region_1</th>\n",
       "      <th>year</th>\n",
       "      <th>lat</th>\n",
       "      <th>lon</th>\n",
       "      <th>location</th>\n",
       "      <th>avg_temp</th>\n",
       "      <th>min_temp</th>\n",
       "      <th>max_temp</th>\n",
       "      <th>precipitation_in_mm</th>\n",
       "      <th>wind_average_kmh</th>\n",
       "      <th>wind_peak_kmh</th>\n",
       "      <th>sun_minutes</th>\n",
       "    </tr>\n",
       "  </thead>\n",
       "  <tbody>\n",
       "    <tr>\n",
       "      <th>0</th>\n",
       "      <td>test</td>\n",
       "      <td>Sicily &amp; Sardinia</td>\n",
       "      <td>Etna</td>\n",
       "      <td>2013.0</td>\n",
       "      <td>39.373062</td>\n",
       "      <td>9.157212</td>\n",
       "      <td>1.0</td>\n",
       "      <td>NaN</td>\n",
       "      <td>NaN</td>\n",
       "      <td>NaN</td>\n",
       "      <td>NaN</td>\n",
       "      <td>NaN</td>\n",
       "      <td>NaN</td>\n",
       "      <td>NaN</td>\n",
       "    </tr>\n",
       "    <tr>\n",
       "      <th>5</th>\n",
       "      <td>Italy</td>\n",
       "      <td>Sicily &amp; Sardinia</td>\n",
       "      <td>Vittoria</td>\n",
       "      <td>2013.0</td>\n",
       "      <td>39.373062</td>\n",
       "      <td>9.157212</td>\n",
       "      <td>1.0</td>\n",
       "      <td>NaN</td>\n",
       "      <td>NaN</td>\n",
       "      <td>NaN</td>\n",
       "      <td>NaN</td>\n",
       "      <td>NaN</td>\n",
       "      <td>NaN</td>\n",
       "      <td>NaN</td>\n",
       "    </tr>\n",
       "    <tr>\n",
       "      <th>10</th>\n",
       "      <td>Italy</td>\n",
       "      <td>Sicily &amp; Sardinia</td>\n",
       "      <td>Etna</td>\n",
       "      <td>2012.0</td>\n",
       "      <td>39.373062</td>\n",
       "      <td>9.157212</td>\n",
       "      <td>1.0</td>\n",
       "      <td>NaN</td>\n",
       "      <td>NaN</td>\n",
       "      <td>NaN</td>\n",
       "      <td>NaN</td>\n",
       "      <td>NaN</td>\n",
       "      <td>NaN</td>\n",
       "      <td>NaN</td>\n",
       "    </tr>\n",
       "    <tr>\n",
       "      <th>15</th>\n",
       "      <td>Italy</td>\n",
       "      <td>Sicily &amp; Sardinia</td>\n",
       "      <td>Sicilia</td>\n",
       "      <td>2007.0</td>\n",
       "      <td>39.373062</td>\n",
       "      <td>9.157212</td>\n",
       "      <td>1.0</td>\n",
       "      <td>NaN</td>\n",
       "      <td>NaN</td>\n",
       "      <td>NaN</td>\n",
       "      <td>NaN</td>\n",
       "      <td>NaN</td>\n",
       "      <td>NaN</td>\n",
       "      <td>NaN</td>\n",
       "    </tr>\n",
       "    <tr>\n",
       "      <th>17</th>\n",
       "      <td>Italy</td>\n",
       "      <td>Sicily &amp; Sardinia</td>\n",
       "      <td>Sicilia</td>\n",
       "      <td>2009.0</td>\n",
       "      <td>39.373062</td>\n",
       "      <td>9.157212</td>\n",
       "      <td>1.0</td>\n",
       "      <td>NaN</td>\n",
       "      <td>NaN</td>\n",
       "      <td>NaN</td>\n",
       "      <td>NaN</td>\n",
       "      <td>NaN</td>\n",
       "      <td>NaN</td>\n",
       "      <td>NaN</td>\n",
       "    </tr>\n",
       "    <tr>\n",
       "      <th>...</th>\n",
       "      <td>...</td>\n",
       "      <td>...</td>\n",
       "      <td>...</td>\n",
       "      <td>...</td>\n",
       "      <td>...</td>\n",
       "      <td>...</td>\n",
       "      <td>...</td>\n",
       "      <td>...</td>\n",
       "      <td>...</td>\n",
       "      <td>...</td>\n",
       "      <td>...</td>\n",
       "      <td>...</td>\n",
       "      <td>...</td>\n",
       "      <td>...</td>\n",
       "    </tr>\n",
       "    <tr>\n",
       "      <th>4934</th>\n",
       "      <td>Italy</td>\n",
       "      <td>Sicily &amp; Sardinia</td>\n",
       "      <td>Alghero</td>\n",
       "      <td>2010.0</td>\n",
       "      <td>39.373062</td>\n",
       "      <td>9.157212</td>\n",
       "      <td>1.0</td>\n",
       "      <td>NaN</td>\n",
       "      <td>NaN</td>\n",
       "      <td>NaN</td>\n",
       "      <td>NaN</td>\n",
       "      <td>NaN</td>\n",
       "      <td>NaN</td>\n",
       "      <td>NaN</td>\n",
       "    </tr>\n",
       "    <tr>\n",
       "      <th>4960</th>\n",
       "      <td>Italy</td>\n",
       "      <td>Sicily &amp; Sardinia</td>\n",
       "      <td>Erice</td>\n",
       "      <td>2013.0</td>\n",
       "      <td>39.373062</td>\n",
       "      <td>9.157212</td>\n",
       "      <td>1.0</td>\n",
       "      <td>NaN</td>\n",
       "      <td>NaN</td>\n",
       "      <td>NaN</td>\n",
       "      <td>NaN</td>\n",
       "      <td>NaN</td>\n",
       "      <td>NaN</td>\n",
       "      <td>NaN</td>\n",
       "    </tr>\n",
       "    <tr>\n",
       "      <th>4966</th>\n",
       "      <td>Italy</td>\n",
       "      <td>Sicily &amp; Sardinia</td>\n",
       "      <td>Malvasia delle Lipari</td>\n",
       "      <td>2010.0</td>\n",
       "      <td>39.373062</td>\n",
       "      <td>9.157212</td>\n",
       "      <td>1.0</td>\n",
       "      <td>NaN</td>\n",
       "      <td>NaN</td>\n",
       "      <td>NaN</td>\n",
       "      <td>NaN</td>\n",
       "      <td>NaN</td>\n",
       "      <td>NaN</td>\n",
       "      <td>NaN</td>\n",
       "    </tr>\n",
       "    <tr>\n",
       "      <th>5029</th>\n",
       "      <td>Italy</td>\n",
       "      <td>Sicily &amp; Sardinia</td>\n",
       "      <td>Contea di Sclafani</td>\n",
       "      <td>2014.0</td>\n",
       "      <td>39.373062</td>\n",
       "      <td>9.157212</td>\n",
       "      <td>1.0</td>\n",
       "      <td>NaN</td>\n",
       "      <td>NaN</td>\n",
       "      <td>NaN</td>\n",
       "      <td>NaN</td>\n",
       "      <td>NaN</td>\n",
       "      <td>NaN</td>\n",
       "      <td>NaN</td>\n",
       "    </tr>\n",
       "    <tr>\n",
       "      <th>5040</th>\n",
       "      <td>Italy</td>\n",
       "      <td>Sicily &amp; Sardinia</td>\n",
       "      <td>Passito di Pantelleria</td>\n",
       "      <td>2008.0</td>\n",
       "      <td>39.373062</td>\n",
       "      <td>9.157212</td>\n",
       "      <td>1.0</td>\n",
       "      <td>NaN</td>\n",
       "      <td>NaN</td>\n",
       "      <td>NaN</td>\n",
       "      <td>NaN</td>\n",
       "      <td>NaN</td>\n",
       "      <td>NaN</td>\n",
       "      <td>NaN</td>\n",
       "    </tr>\n",
       "  </tbody>\n",
       "</table>\n",
       "<p>192 rows × 14 columns</p>\n",
       "</div>"
      ],
      "text/plain": [
       "     country           province                region_1    year        lat  \\\n",
       "0       test  Sicily & Sardinia                    Etna  2013.0  39.373062   \n",
       "5      Italy  Sicily & Sardinia                Vittoria  2013.0  39.373062   \n",
       "10     Italy  Sicily & Sardinia                    Etna  2012.0  39.373062   \n",
       "15     Italy  Sicily & Sardinia                 Sicilia  2007.0  39.373062   \n",
       "17     Italy  Sicily & Sardinia                 Sicilia  2009.0  39.373062   \n",
       "...      ...                ...                     ...     ...        ...   \n",
       "4934   Italy  Sicily & Sardinia                 Alghero  2010.0  39.373062   \n",
       "4960   Italy  Sicily & Sardinia                   Erice  2013.0  39.373062   \n",
       "4966   Italy  Sicily & Sardinia   Malvasia delle Lipari  2010.0  39.373062   \n",
       "5029   Italy  Sicily & Sardinia      Contea di Sclafani  2014.0  39.373062   \n",
       "5040   Italy  Sicily & Sardinia  Passito di Pantelleria  2008.0  39.373062   \n",
       "\n",
       "           lon  location  avg_temp  min_temp  max_temp  precipitation_in_mm  \\\n",
       "0     9.157212       1.0       NaN       NaN       NaN                  NaN   \n",
       "5     9.157212       1.0       NaN       NaN       NaN                  NaN   \n",
       "10    9.157212       1.0       NaN       NaN       NaN                  NaN   \n",
       "15    9.157212       1.0       NaN       NaN       NaN                  NaN   \n",
       "17    9.157212       1.0       NaN       NaN       NaN                  NaN   \n",
       "...        ...       ...       ...       ...       ...                  ...   \n",
       "4934  9.157212       1.0       NaN       NaN       NaN                  NaN   \n",
       "4960  9.157212       1.0       NaN       NaN       NaN                  NaN   \n",
       "4966  9.157212       1.0       NaN       NaN       NaN                  NaN   \n",
       "5029  9.157212       1.0       NaN       NaN       NaN                  NaN   \n",
       "5040  9.157212       1.0       NaN       NaN       NaN                  NaN   \n",
       "\n",
       "      wind_average_kmh  wind_peak_kmh  sun_minutes  \n",
       "0                  NaN            NaN          NaN  \n",
       "5                  NaN            NaN          NaN  \n",
       "10                 NaN            NaN          NaN  \n",
       "15                 NaN            NaN          NaN  \n",
       "17                 NaN            NaN          NaN  \n",
       "...                ...            ...          ...  \n",
       "4934               NaN            NaN          NaN  \n",
       "4960               NaN            NaN          NaN  \n",
       "4966               NaN            NaN          NaN  \n",
       "5029               NaN            NaN          NaN  \n",
       "5040               NaN            NaN          NaN  \n",
       "\n",
       "[192 rows x 14 columns]"
      ]
     },
     "execution_count": 196,
     "metadata": {},
     "output_type": "execute_result"
    }
   ],
   "source": [
    "final_tb[(final_tb[\"province\"] == \"Sicily & Sardinia\") & (final_tb['avg_temp'].isna() ==True)]"
   ]
  },
  {
   "attachments": {},
   "cell_type": "markdown",
   "metadata": {},
   "source": [
    "### 3. Country = Australia & Province = South Australia\n",
    "- Check, whether the given geo-coordinates work. If it doesn't work, we should find another geo-coordinates and run the temperature code\n",
    "\n",
    "    - Original geo-coordinates\n",
    "        - lat = -34.741121\n",
    "        - lon = 138.656437\n",
    "    - New geo-coordinates\n",
    "        - lat = 39.373062\n",
    "        - lon = 9.157212"
   ]
  },
  {
   "cell_type": "code",
   "execution_count": 197,
   "metadata": {},
   "outputs": [
    {
     "name": "stderr",
     "output_type": "stream",
     "text": [
      "SettingWithCopyWarning: \n",
      "A value is trying to be set on a copy of a slice from a DataFrame.\n",
      "Try using .loc[row_indexer,col_indexer] = value instead\n",
      "\n",
      "See the caveats in the documentation: https://pandas.pydata.org/pandas-docs/stable/user_guide/indexing.html#returning-a-view-versus-a-copy\n",
      "SettingWithCopyWarning: \n",
      "A value is trying to be set on a copy of a slice from a DataFrame.\n",
      "Try using .loc[row_indexer,col_indexer] = value instead\n",
      "\n",
      "See the caveats in the documentation: https://pandas.pydata.org/pandas-docs/stable/user_guide/indexing.html#returning-a-view-versus-a-copy\n"
     ]
    }
   ],
   "source": [
    "wrong_geo = final_tb[(final_tb[\"province\"] == \"South Australia\") & (final_tb['avg_temp'].isna() ==True)]\n",
    "fix_geo_data(wrong_geo, Point(-34.064999, 150.814163))\n",
    "final_tb.update(wrong_geo)"
   ]
  },
  {
   "attachments": {},
   "cell_type": "markdown",
   "metadata": {},
   "source": [
    "### 4. Country = Portugal & Province = Tejo\n",
    "- Check, whether the given geo-coordinates work. If it doesn't work, we should find another geo-coordinates and run the temperature code\n",
    "\n",
    "    - Original geo-coordinates\n",
    "        - lat = 39.409227\n",
    "        - lon = -8.205827\n",
    "    - New geo-coordinates\n",
    "        - lat = 38.74908340\n",
    "        - lon = -9.13983090"
   ]
  },
  {
   "cell_type": "code",
   "execution_count": 198,
   "metadata": {},
   "outputs": [
    {
     "name": "stderr",
     "output_type": "stream",
     "text": [
      "SettingWithCopyWarning: \n",
      "A value is trying to be set on a copy of a slice from a DataFrame.\n",
      "Try using .loc[row_indexer,col_indexer] = value instead\n",
      "\n",
      "See the caveats in the documentation: https://pandas.pydata.org/pandas-docs/stable/user_guide/indexing.html#returning-a-view-versus-a-copy\n",
      "SettingWithCopyWarning: \n",
      "A value is trying to be set on a copy of a slice from a DataFrame.\n",
      "Try using .loc[row_indexer,col_indexer] = value instead\n",
      "\n",
      "See the caveats in the documentation: https://pandas.pydata.org/pandas-docs/stable/user_guide/indexing.html#returning-a-view-versus-a-copy\n"
     ]
    }
   ],
   "source": [
    "wrong_geo = final_tb[(final_tb[\"province\"] == \"Tejo\") & (final_tb['avg_temp'].isna() ==True)]\n",
    "fix_geo_data(wrong_geo, Point(38.74908340,-9.13983090))\n",
    "final_tb.update(wrong_geo)"
   ]
  },
  {
   "cell_type": "code",
   "execution_count": null,
   "metadata": {},
   "outputs": [],
   "source": [
    "final_tb[(final_tb[\"province\"] == \"Tejo\") & (final_tb['avg_temp'].isna() ==True)]"
   ]
  },
  {
   "attachments": {},
   "cell_type": "markdown",
   "metadata": {},
   "source": [
    "### 5. Country = Greece & Province = Naoussa\n",
    "- Check, whether the given geo-coordinates work. If it doesn't work, we should find another geo-coordinates and run the temperature code\n",
    "    - Geo-coordinates have been adjusted"
   ]
  },
  {
   "cell_type": "code",
   "execution_count": 199,
   "metadata": {},
   "outputs": [
    {
     "name": "stderr",
     "output_type": "stream",
     "text": [
      "SettingWithCopyWarning: \n",
      "A value is trying to be set on a copy of a slice from a DataFrame.\n",
      "Try using .loc[row_indexer,col_indexer] = value instead\n",
      "\n",
      "See the caveats in the documentation: https://pandas.pydata.org/pandas-docs/stable/user_guide/indexing.html#returning-a-view-versus-a-copy\n",
      "SettingWithCopyWarning: \n",
      "A value is trying to be set on a copy of a slice from a DataFrame.\n",
      "Try using .loc[row_indexer,col_indexer] = value instead\n",
      "\n",
      "See the caveats in the documentation: https://pandas.pydata.org/pandas-docs/stable/user_guide/indexing.html#returning-a-view-versus-a-copy\n"
     ]
    }
   ],
   "source": [
    "wrong_geo = final_tb[(final_tb[\"province\"] == \"Naoussa\") & (final_tb['avg_temp'].isna() ==True)]\n",
    "fix_geo_data(wrong_geo, Point(40.6308695, 40.428022))\n",
    "final_tb.update(wrong_geo)"
   ]
  },
  {
   "attachments": {},
   "cell_type": "markdown",
   "metadata": {},
   "source": [
    "### 6. Country = Greece & Province = Nemea\n",
    "- Check, whether the given geo-coordinates work. If it doesn't work, we should find another geo-coordinates and run the temperature code\n",
    "    - Geo-coordinates have been adjusted"
   ]
  },
  {
   "cell_type": "code",
   "execution_count": 200,
   "metadata": {},
   "outputs": [
    {
     "name": "stderr",
     "output_type": "stream",
     "text": [
      "SettingWithCopyWarning: \n",
      "A value is trying to be set on a copy of a slice from a DataFrame.\n",
      "Try using .loc[row_indexer,col_indexer] = value instead\n",
      "\n",
      "See the caveats in the documentation: https://pandas.pydata.org/pandas-docs/stable/user_guide/indexing.html#returning-a-view-versus-a-copy\n",
      "SettingWithCopyWarning: \n",
      "A value is trying to be set on a copy of a slice from a DataFrame.\n",
      "Try using .loc[row_indexer,col_indexer] = value instead\n",
      "\n",
      "See the caveats in the documentation: https://pandas.pydata.org/pandas-docs/stable/user_guide/indexing.html#returning-a-view-versus-a-copy\n"
     ]
    }
   ],
   "source": [
    "wrong_geo = final_tb[(final_tb[\"country\"] == \"Greece\") & (final_tb[\"province\"] == \"Nemea\")]\n",
    "fix_geo_data(wrong_geo, Point(37.955894,23.702099))\n",
    "final_tb.update(wrong_geo)"
   ]
  },
  {
   "cell_type": "code",
   "execution_count": null,
   "metadata": {},
   "outputs": [],
   "source": [
    "final_tb[(final_tb[\"country\"] == \"Greece\") & (final_tb[\"province\"] == \"Nemea\")]"
   ]
  },
  {
   "attachments": {},
   "cell_type": "markdown",
   "metadata": {},
   "source": [
    "### 7. Country = Austria & Province = Kremstal & Niederösterreich & Eisenberg\n",
    "- Check, whether the given geo-coordinates work. If it doesn't work, we should find another geo-coordinates and run the temperature code\n",
    "    - Geo-coordinates have been adjusted"
   ]
  },
  {
   "cell_type": "code",
   "execution_count": 201,
   "metadata": {},
   "outputs": [
    {
     "name": "stderr",
     "output_type": "stream",
     "text": [
      "SettingWithCopyWarning: \n",
      "A value is trying to be set on a copy of a slice from a DataFrame.\n",
      "Try using .loc[row_indexer,col_indexer] = value instead\n",
      "\n",
      "See the caveats in the documentation: https://pandas.pydata.org/pandas-docs/stable/user_guide/indexing.html#returning-a-view-versus-a-copy\n",
      "SettingWithCopyWarning: \n",
      "A value is trying to be set on a copy of a slice from a DataFrame.\n",
      "Try using .loc[row_indexer,col_indexer] = value instead\n",
      "\n",
      "See the caveats in the documentation: https://pandas.pydata.org/pandas-docs/stable/user_guide/indexing.html#returning-a-view-versus-a-copy\n"
     ]
    }
   ],
   "source": [
    "wrong_geo = final_tb[(final_tb[\"province\"] == \"Kremstal\") & (final_tb['avg_temp'].isna() ==True)]\n",
    "fix_geo_data(wrong_geo, Point(48.409990,15.603840))\n",
    "final_tb.update(wrong_geo)"
   ]
  },
  {
   "cell_type": "code",
   "execution_count": 202,
   "metadata": {},
   "outputs": [
    {
     "name": "stderr",
     "output_type": "stream",
     "text": [
      "SettingWithCopyWarning: \n",
      "A value is trying to be set on a copy of a slice from a DataFrame.\n",
      "Try using .loc[row_indexer,col_indexer] = value instead\n",
      "\n",
      "See the caveats in the documentation: https://pandas.pydata.org/pandas-docs/stable/user_guide/indexing.html#returning-a-view-versus-a-copy\n",
      "SettingWithCopyWarning: \n",
      "A value is trying to be set on a copy of a slice from a DataFrame.\n",
      "Try using .loc[row_indexer,col_indexer] = value instead\n",
      "\n",
      "See the caveats in the documentation: https://pandas.pydata.org/pandas-docs/stable/user_guide/indexing.html#returning-a-view-versus-a-copy\n"
     ]
    }
   ],
   "source": [
    "wrong_geo = final_tb[(final_tb[\"province\"] == \"Eisenberg\") & (final_tb['avg_temp'].isna() ==True)]\n",
    "fix_geo_data(wrong_geo, Point(46.903996384, 16.138499446))\n",
    "final_tb.update(wrong_geo)"
   ]
  },
  {
   "cell_type": "code",
   "execution_count": 203,
   "metadata": {},
   "outputs": [
    {
     "name": "stderr",
     "output_type": "stream",
     "text": [
      "SettingWithCopyWarning: \n",
      "A value is trying to be set on a copy of a slice from a DataFrame.\n",
      "Try using .loc[row_indexer,col_indexer] = value instead\n",
      "\n",
      "See the caveats in the documentation: https://pandas.pydata.org/pandas-docs/stable/user_guide/indexing.html#returning-a-view-versus-a-copy\n",
      "SettingWithCopyWarning: \n",
      "A value is trying to be set on a copy of a slice from a DataFrame.\n",
      "Try using .loc[row_indexer,col_indexer] = value instead\n",
      "\n",
      "See the caveats in the documentation: https://pandas.pydata.org/pandas-docs/stable/user_guide/indexing.html#returning-a-view-versus-a-copy\n"
     ]
    }
   ],
   "source": [
    "wrong_geo = final_tb[(final_tb[\"province\"] == \"Niederösterreich\") & (final_tb['avg_temp'].isna() ==True)]\n",
    "fix_geo_data(wrong_geo, Point(48.33, 15.75))\n",
    "final_tb.update(wrong_geo)"
   ]
  },
  {
   "attachments": {},
   "cell_type": "markdown",
   "metadata": {},
   "source": [
    "### 8. Country = Spain & Province = Catalonia & Andalucia\n",
    "- Check, whether the given geo-coordinates work. If it doesn't work, we should find another geo-coordinates and run the temperature code\n",
    "    - Geo-coordinates have been adjusted"
   ]
  },
  {
   "cell_type": "code",
   "execution_count": 204,
   "metadata": {},
   "outputs": [
    {
     "name": "stderr",
     "output_type": "stream",
     "text": [
      "SettingWithCopyWarning: \n",
      "A value is trying to be set on a copy of a slice from a DataFrame.\n",
      "Try using .loc[row_indexer,col_indexer] = value instead\n",
      "\n",
      "See the caveats in the documentation: https://pandas.pydata.org/pandas-docs/stable/user_guide/indexing.html#returning-a-view-versus-a-copy\n",
      "SettingWithCopyWarning: \n",
      "A value is trying to be set on a copy of a slice from a DataFrame.\n",
      "Try using .loc[row_indexer,col_indexer] = value instead\n",
      "\n",
      "See the caveats in the documentation: https://pandas.pydata.org/pandas-docs/stable/user_guide/indexing.html#returning-a-view-versus-a-copy\n"
     ]
    }
   ],
   "source": [
    "wrong_geo = final_tb[(final_tb[\"province\"] == \"Catalonia\") & (final_tb['avg_temp'].isna() ==True)]\n",
    "fix_geo_data(wrong_geo, Point(41.390205,2.154007))\n",
    "final_tb.update(wrong_geo)"
   ]
  },
  {
   "cell_type": "code",
   "execution_count": 205,
   "metadata": {},
   "outputs": [
    {
     "name": "stderr",
     "output_type": "stream",
     "text": [
      "SettingWithCopyWarning: \n",
      "A value is trying to be set on a copy of a slice from a DataFrame.\n",
      "Try using .loc[row_indexer,col_indexer] = value instead\n",
      "\n",
      "See the caveats in the documentation: https://pandas.pydata.org/pandas-docs/stable/user_guide/indexing.html#returning-a-view-versus-a-copy\n",
      "SettingWithCopyWarning: \n",
      "A value is trying to be set on a copy of a slice from a DataFrame.\n",
      "Try using .loc[row_indexer,col_indexer] = value instead\n",
      "\n",
      "See the caveats in the documentation: https://pandas.pydata.org/pandas-docs/stable/user_guide/indexing.html#returning-a-view-versus-a-copy\n"
     ]
    }
   ],
   "source": [
    "final_tb[(final_tb[\"province\"] == \"Andalucia\") & (final_tb['avg_temp'].isna() ==True)]\n",
    "fix_geo_data(wrong_geo, Point(37.178055,-3.600833))\n",
    "final_tb.update(wrong_geo)"
   ]
  },
  {
   "attachments": {},
   "cell_type": "markdown",
   "metadata": {},
   "source": [
    "### 9. Country = Italy & Province = Veneto\n",
    "- Check, whether the given geo-coordinates work. If it doesn't work, we should find another geo-coordinates and run the temperature code\n",
    "    - Geo-coordinates have been adjusted"
   ]
  },
  {
   "cell_type": "code",
   "execution_count": 206,
   "metadata": {},
   "outputs": [
    {
     "name": "stderr",
     "output_type": "stream",
     "text": [
      "SettingWithCopyWarning: \n",
      "A value is trying to be set on a copy of a slice from a DataFrame.\n",
      "Try using .loc[row_indexer,col_indexer] = value instead\n",
      "\n",
      "See the caveats in the documentation: https://pandas.pydata.org/pandas-docs/stable/user_guide/indexing.html#returning-a-view-versus-a-copy\n",
      "SettingWithCopyWarning: \n",
      "A value is trying to be set on a copy of a slice from a DataFrame.\n",
      "Try using .loc[row_indexer,col_indexer] = value instead\n",
      "\n",
      "See the caveats in the documentation: https://pandas.pydata.org/pandas-docs/stable/user_guide/indexing.html#returning-a-view-versus-a-copy\n"
     ]
    }
   ],
   "source": [
    "wrong_geo = final_tb[(final_tb[\"province\"] == \"Veneto\") & (final_tb['avg_temp'].isna() ==True)]\n",
    "fix_geo_data(wrong_geo, Point(45.666668,12.250000))\n",
    "final_tb.update(wrong_geo)"
   ]
  },
  {
   "attachments": {},
   "cell_type": "markdown",
   "metadata": {},
   "source": [
    "### 10. Country = France & Province = Champagne\n",
    "- Check, whether the given geo-coordinates work. If it doesn't work, we should find another geo-coordinates and run the temperature code\n",
    "    - Geo-coordinates have been adjusted"
   ]
  },
  {
   "cell_type": "code",
   "execution_count": 207,
   "metadata": {},
   "outputs": [
    {
     "name": "stderr",
     "output_type": "stream",
     "text": [
      "SettingWithCopyWarning: \n",
      "A value is trying to be set on a copy of a slice from a DataFrame.\n",
      "Try using .loc[row_indexer,col_indexer] = value instead\n",
      "\n",
      "See the caveats in the documentation: https://pandas.pydata.org/pandas-docs/stable/user_guide/indexing.html#returning-a-view-versus-a-copy\n",
      "SettingWithCopyWarning: \n",
      "A value is trying to be set on a copy of a slice from a DataFrame.\n",
      "Try using .loc[row_indexer,col_indexer] = value instead\n",
      "\n",
      "See the caveats in the documentation: https://pandas.pydata.org/pandas-docs/stable/user_guide/indexing.html#returning-a-view-versus-a-copy\n"
     ]
    }
   ],
   "source": [
    "wrong_geo = final_tb[(final_tb[\"province\"] == \"Champagne\") & (final_tb['avg_temp'].isna() ==True)]\n",
    "fix_geo_data(wrong_geo, Point(48.026628, 0.333235))\n",
    "final_tb.update(wrong_geo)"
   ]
  },
  {
   "attachments": {},
   "cell_type": "markdown",
   "metadata": {},
   "source": [
    "### 11. Country = US & Province = Arizona & Connecticut & Iowa & New Mexico & Texas & Vermont\n",
    "- Check, whether the given geo-coordinates work. If it doesn't work, we should find another geo-coordinates and run the temperature code\n",
    "    - Geo-coordinates have been adjusted\n"
   ]
  },
  {
   "cell_type": "code",
   "execution_count": 208,
   "metadata": {},
   "outputs": [
    {
     "name": "stderr",
     "output_type": "stream",
     "text": [
      "SettingWithCopyWarning: \n",
      "A value is trying to be set on a copy of a slice from a DataFrame.\n",
      "Try using .loc[row_indexer,col_indexer] = value instead\n",
      "\n",
      "See the caveats in the documentation: https://pandas.pydata.org/pandas-docs/stable/user_guide/indexing.html#returning-a-view-versus-a-copy\n",
      "SettingWithCopyWarning: \n",
      "A value is trying to be set on a copy of a slice from a DataFrame.\n",
      "Try using .loc[row_indexer,col_indexer] = value instead\n",
      "\n",
      "See the caveats in the documentation: https://pandas.pydata.org/pandas-docs/stable/user_guide/indexing.html#returning-a-view-versus-a-copy\n"
     ]
    }
   ],
   "source": [
    "wrong_geo = final_tb[(final_tb[\"province\"] == \"Arizona\") & (final_tb['avg_temp'].isna() ==True)]\n",
    "fix_geo_data(wrong_geo, Point(34.048927,-111.093735))\n",
    "final_tb.update(wrong_geo)"
   ]
  },
  {
   "cell_type": "code",
   "execution_count": 209,
   "metadata": {},
   "outputs": [
    {
     "name": "stderr",
     "output_type": "stream",
     "text": [
      "SettingWithCopyWarning: \n",
      "A value is trying to be set on a copy of a slice from a DataFrame.\n",
      "Try using .loc[row_indexer,col_indexer] = value instead\n",
      "\n",
      "See the caveats in the documentation: https://pandas.pydata.org/pandas-docs/stable/user_guide/indexing.html#returning-a-view-versus-a-copy\n",
      "SettingWithCopyWarning: \n",
      "A value is trying to be set on a copy of a slice from a DataFrame.\n",
      "Try using .loc[row_indexer,col_indexer] = value instead\n",
      "\n",
      "See the caveats in the documentation: https://pandas.pydata.org/pandas-docs/stable/user_guide/indexing.html#returning-a-view-versus-a-copy\n"
     ]
    }
   ],
   "source": [
    "wrong_geo = final_tb[(final_tb[\"province\"] == \"Connecticut\") & (final_tb['avg_temp'].isna() ==True)]\n",
    "fix_geo_data(wrong_geo, Point(41.599998,-72.699997))\n",
    "final_tb.update(wrong_geo)"
   ]
  },
  {
   "cell_type": "code",
   "execution_count": 210,
   "metadata": {},
   "outputs": [
    {
     "name": "stderr",
     "output_type": "stream",
     "text": [
      "SettingWithCopyWarning: \n",
      "A value is trying to be set on a copy of a slice from a DataFrame.\n",
      "Try using .loc[row_indexer,col_indexer] = value instead\n",
      "\n",
      "See the caveats in the documentation: https://pandas.pydata.org/pandas-docs/stable/user_guide/indexing.html#returning-a-view-versus-a-copy\n",
      "SettingWithCopyWarning: \n",
      "A value is trying to be set on a copy of a slice from a DataFrame.\n",
      "Try using .loc[row_indexer,col_indexer] = value instead\n",
      "\n",
      "See the caveats in the documentation: https://pandas.pydata.org/pandas-docs/stable/user_guide/indexing.html#returning-a-view-versus-a-copy\n"
     ]
    }
   ],
   "source": [
    "wrong_geo = final_tb[(final_tb[\"province\"] == \"Iowa\") & (final_tb['avg_temp'].isna() ==True)]\n",
    "fix_geo_data(wrong_geo, Point(29.749907, -95.358421))\n",
    "final_tb.update(wrong_geo)"
   ]
  },
  {
   "cell_type": "code",
   "execution_count": 211,
   "metadata": {},
   "outputs": [
    {
     "name": "stderr",
     "output_type": "stream",
     "text": [
      "SettingWithCopyWarning: \n",
      "A value is trying to be set on a copy of a slice from a DataFrame.\n",
      "Try using .loc[row_indexer,col_indexer] = value instead\n",
      "\n",
      "See the caveats in the documentation: https://pandas.pydata.org/pandas-docs/stable/user_guide/indexing.html#returning-a-view-versus-a-copy\n",
      "SettingWithCopyWarning: \n",
      "A value is trying to be set on a copy of a slice from a DataFrame.\n",
      "Try using .loc[row_indexer,col_indexer] = value instead\n",
      "\n",
      "See the caveats in the documentation: https://pandas.pydata.org/pandas-docs/stable/user_guide/indexing.html#returning-a-view-versus-a-copy\n"
     ]
    }
   ],
   "source": [
    "wrong_geo = final_tb[(final_tb[\"province\"] == \"New Mexico\") & (final_tb['avg_temp'].isna() ==True)]\n",
    "fix_geo_data(wrong_geo, Point(35.106766,-106.629181))\n",
    "final_tb.update(wrong_geo)"
   ]
  },
  {
   "cell_type": "code",
   "execution_count": 212,
   "metadata": {},
   "outputs": [
    {
     "name": "stderr",
     "output_type": "stream",
     "text": [
      "SettingWithCopyWarning: \n",
      "A value is trying to be set on a copy of a slice from a DataFrame.\n",
      "Try using .loc[row_indexer,col_indexer] = value instead\n",
      "\n",
      "See the caveats in the documentation: https://pandas.pydata.org/pandas-docs/stable/user_guide/indexing.html#returning-a-view-versus-a-copy\n",
      "SettingWithCopyWarning: \n",
      "A value is trying to be set on a copy of a slice from a DataFrame.\n",
      "Try using .loc[row_indexer,col_indexer] = value instead\n",
      "\n",
      "See the caveats in the documentation: https://pandas.pydata.org/pandas-docs/stable/user_guide/indexing.html#returning-a-view-versus-a-copy\n"
     ]
    }
   ],
   "source": [
    "wrong_geo = final_tb[(final_tb[\"province\"] == \"Texas\") & (final_tb['avg_temp'].isna() ==True)]\n",
    "fix_geo_data(wrong_geo, Point(42.032974,-93.581543))\n",
    "final_tb.update(wrong_geo)"
   ]
  },
  {
   "cell_type": "code",
   "execution_count": 213,
   "metadata": {},
   "outputs": [
    {
     "name": "stderr",
     "output_type": "stream",
     "text": [
      "SettingWithCopyWarning: \n",
      "A value is trying to be set on a copy of a slice from a DataFrame.\n",
      "Try using .loc[row_indexer,col_indexer] = value instead\n",
      "\n",
      "See the caveats in the documentation: https://pandas.pydata.org/pandas-docs/stable/user_guide/indexing.html#returning-a-view-versus-a-copy\n",
      "SettingWithCopyWarning: \n",
      "A value is trying to be set on a copy of a slice from a DataFrame.\n",
      "Try using .loc[row_indexer,col_indexer] = value instead\n",
      "\n",
      "See the caveats in the documentation: https://pandas.pydata.org/pandas-docs/stable/user_guide/indexing.html#returning-a-view-versus-a-copy\n"
     ]
    }
   ],
   "source": [
    "wrong_geo = final_tb[(final_tb[\"province\"] == \"Vermont\") & (final_tb['avg_temp'].isna() ==True)]\n",
    "fix_geo_data(wrong_geo, Point(44.000000,-72.699997))\n",
    "final_tb.update(wrong_geo)"
   ]
  },
  {
   "cell_type": "code",
   "execution_count": 214,
   "metadata": {},
   "outputs": [
    {
     "name": "stdout",
     "output_type": "stream",
     "text": [
      "<class 'pandas.core.frame.DataFrame'>\n",
      "Int64Index: 5074 entries, 0 to 5073\n",
      "Data columns (total 14 columns):\n",
      " #   Column               Non-Null Count  Dtype  \n",
      "---  ------               --------------  -----  \n",
      " 0   country              5074 non-null   object \n",
      " 1   province             5074 non-null   object \n",
      " 2   region_1             3937 non-null   object \n",
      " 3   year                 5074 non-null   int32  \n",
      " 4   lat                  5074 non-null   float64\n",
      " 5   lon                  5074 non-null   float64\n",
      " 6   location             5074 non-null   int32  \n",
      " 7   avg_temp             1722 non-null   float64\n",
      " 8   min_temp             1726 non-null   float64\n",
      " 9   max_temp             1725 non-null   float64\n",
      " 10  precipitation_in_mm  1412 non-null   float64\n",
      " 11  wind_average_kmh     1573 non-null   float64\n",
      " 12  wind_peak_kmh        53 non-null     float64\n",
      " 13  sun_minutes          123 non-null    float64\n",
      "dtypes: float64(9), int32(2), object(3)\n",
      "memory usage: 555.0+ KB\n"
     ]
    }
   ],
   "source": [
    "final_tb['location'] = final_tb['location'].astype('int')\n",
    "final_tb['year'] = final_tb['year'].astype('int')\n",
    "final_tb.info()"
   ]
  },
  {
   "cell_type": "code",
   "execution_count": 216,
   "metadata": {},
   "outputs": [
    {
     "name": "stderr",
     "output_type": "stream",
     "text": [
      "Warning: Cannot load daily/KZAB0.csv.gz from https://bulk.meteostat.net/v2/\n"
     ]
    }
   ],
   "source": [
    "final_tb = get_temp_data(final_tb)"
   ]
  },
  {
   "cell_type": "code",
   "execution_count": 217,
   "metadata": {},
   "outputs": [
    {
     "data": {
      "text/plain": [
       "country                   0\n",
       "province                  0\n",
       "region_1               1137\n",
       "year                      0\n",
       "lat                       0\n",
       "lon                       0\n",
       "location                  0\n",
       "avg_temp               1051\n",
       "min_temp               1047\n",
       "max_temp               1048\n",
       "precipitation_in_mm    1393\n",
       "wind_average_kmh       1274\n",
       "wind_peak_kmh          5000\n",
       "sun_minutes            4741\n",
       "dtype: int64"
      ]
     },
     "execution_count": 217,
     "metadata": {},
     "output_type": "execute_result"
    }
   ],
   "source": [
    "final_tb.isnull().sum()"
   ]
  },
  {
   "cell_type": "code",
   "execution_count": 218,
   "metadata": {},
   "outputs": [
    {
     "data": {
      "text/plain": [
       "5074"
      ]
     },
     "execution_count": 218,
     "metadata": {},
     "output_type": "execute_result"
    }
   ],
   "source": [
    "len(final_tb)"
   ]
  },
  {
   "attachments": {},
   "cell_type": "markdown",
   "metadata": {},
   "source": [
    "### Save final table as csv"
   ]
  },
  {
   "cell_type": "code",
   "execution_count": 219,
   "metadata": {},
   "outputs": [],
   "source": [
    "#from pathlib import Path\n",
    "final_tb.to_csv('../Data/temp_table.csv')"
   ]
  }
 ],
 "metadata": {
  "kernelspec": {
   "display_name": "stats",
   "language": "python",
   "name": "python3"
  },
  "language_info": {
   "codemirror_mode": {
    "name": "ipython",
    "version": 3
   },
   "file_extension": ".py",
   "mimetype": "text/x-python",
   "name": "python",
   "nbconvert_exporter": "python",
   "pygments_lexer": "ipython3",
   "version": "3.9.15"
  },
  "orig_nbformat": 4,
  "vscode": {
   "interpreter": {
    "hash": "3a0f3ad14519b735d3b531c9de039f00fb93fc5113abea86e8535c5e9fe3fe0f"
   }
  }
 },
 "nbformat": 4,
 "nbformat_minor": 2
}
