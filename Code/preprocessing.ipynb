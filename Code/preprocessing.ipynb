{
 "cells": [
  {
   "cell_type": "markdown",
   "metadata": {},
   "source": [
    "# Wine project pre-processing"
   ]
  },
  {
   "cell_type": "code",
   "execution_count": 1,
   "metadata": {},
   "outputs": [
    {
     "data": {
      "text/plain": [
       "DataTransformerRegistry.enable('default')"
      ]
     },
     "execution_count": 1,
     "metadata": {},
     "output_type": "execute_result"
    }
   ],
   "source": [
    "import pandas as pd\n",
    "import requests\n",
    "import json\n",
    "import numpy as np\n",
    "import datetime\n",
    "import time\n",
    "import tweepy\n",
    "import re\n",
    "import seaborn as sns\n",
    "from statistics import mean\n",
    "import pycountry as pc\n",
    "import altair as alt\n",
    "\n",
    "from datetime import datetime, timedelta\n",
    "\n",
    "alt.data_transformers.enable('default', max_rows=None)"
   ]
  },
  {
   "cell_type": "code",
   "execution_count": null,
   "metadata": {},
   "outputs": [],
   "source": [
    "df = pd.read_csv('..\\Data\\winemag-data-130k-v2.csv', index_col=0)"
   ]
  },
  {
   "cell_type": "markdown",
   "metadata": {},
   "source": [
    "## Extract information from title"
   ]
  },
  {
   "cell_type": "code",
   "execution_count": null,
   "metadata": {},
   "outputs": [],
   "source": [
    "titles = df[['title']].values.tolist()\n",
    "titles = [item for sublist in titles for item in sublist]\n",
    "titles"
   ]
  },
  {
   "cell_type": "code",
   "execution_count": null,
   "metadata": {},
   "outputs": [],
   "source": [
    "producer = []\n",
    "years = []\n",
    "vineyard_grape = []\n",
    "region = []\n",
    "\n",
    "for title in titles:\n",
    "    #print(title)\n",
    "    result = re.match(r'(\\w.+) (\\d*) ([^(]+) (\\(.*\\))', title)\n",
    "    if result:\n",
    "        #print(result.groups())\n",
    "        producer.append(result.group(1))\n",
    "        years.append(result.group(2))\n",
    "        vineyard_grape.append(result.group(3))\n",
    "        region.append(result.group(4)[1:-1])\n",
    "    else:\n",
    "        producer.append(0)\n",
    "        years.append(0)\n",
    "        vineyard_grape.append(0)\n",
    "        region.append(0)\n",
    "\n",
    "df['producer'] = producer\n",
    "df['year'] = years\n",
    "df['vineyard_grape'] = vineyard_grape\n",
    "df['region_from_name'] = region"
   ]
  },
  {
   "cell_type": "code",
   "execution_count": null,
   "metadata": {},
   "outputs": [],
   "source": [
    "df"
   ]
  },
  {
   "cell_type": "code",
   "execution_count": null,
   "metadata": {},
   "outputs": [],
   "source": [
    "sns.histplot(\n",
    "    data=df.isna().melt(value_name=\"NaN\"),\n",
    "    y=\"variable\",\n",
    "    hue=\"NaN\",\n",
    "    multiple=\"fill\"\n",
    ")"
   ]
  },
  {
   "attachments": {},
   "cell_type": "markdown",
   "metadata": {},
   "source": [
    "## Get number of followers of the rating person"
   ]
  },
  {
   "cell_type": "code",
   "execution_count": null,
   "metadata": {},
   "outputs": [],
   "source": [
    "df['taster_twitter_handle']"
   ]
  },
  {
   "cell_type": "code",
   "execution_count": null,
   "metadata": {},
   "outputs": [],
   "source": [
    "# Enter your Twitter API credentials\n",
    "bearer_token = \"AAAAAAAAAAAAAAAAAAAAAPb4lQEAAAAAWvSoI7rh96mCKeQDRBwJzrTTk1U%3DpA4OGY28SYCZ4Jg9iXSqTsNgqtwCQzO86w0tUpSaJsJfiKHikN\""
   ]
  },
  {
   "cell_type": "code",
   "execution_count": null,
   "metadata": {},
   "outputs": [],
   "source": [
    "def getFollowerCount(handle):\n",
    "    client = tweepy.Client(bearer_token)\n",
    "\n",
    "    # Get the follower count of a Twitter handle\n",
    "    user_ids = [handle]\n",
    "    response = client.get_users(usernames=user_ids, user_fields=[\"public_metrics\"])    \n",
    "\n",
    "    if (response.data):\n",
    "        for user in response.data:\n",
    "            return user.public_metrics['followers_count']\n",
    "    else:\n",
    "        print('Not found: ' + handle)\n",
    "        return 0"
   ]
  },
  {
   "cell_type": "code",
   "execution_count": null,
   "metadata": {},
   "outputs": [],
   "source": [
    "handles = df[['taster_twitter_handle']].values.tolist()\n",
    "handles"
   ]
  },
  {
   "cell_type": "code",
   "execution_count": null,
   "metadata": {},
   "outputs": [],
   "source": [
    "dict = {}\n",
    "followers = []\n",
    "\n",
    "for handle in handles:\n",
    "    value = handle[0]\n",
    "    #print(value)\n",
    "\n",
    "    try:\n",
    "        result = re.match(r'@(\\w+)', value)\n",
    "    except:\n",
    "        print('error during parsing')\n",
    "        followers.append(pd.NA)\n",
    "        continue;\n",
    "\n",
    "    if result:\n",
    "        correct_handle = result.group(1)\n",
    "        #print(correct_handle)\n",
    "        if (correct_handle in dict):\n",
    "            follower_count = dict[correct_handle]\n",
    "            followers.append(follower_count)\n",
    "        else:\n",
    "            follower_count = getFollowerCount(correct_handle)\n",
    "            dict[correct_handle] = follower_count\n",
    "            followers.append(follower_count)\n",
    "\n",
    "df['followers'] = followers"
   ]
  },
  {
   "cell_type": "code",
   "execution_count": null,
   "metadata": {},
   "outputs": [],
   "source": [
    "df"
   ]
  },
  {
   "cell_type": "code",
   "execution_count": null,
   "metadata": {},
   "outputs": [],
   "source": [
    "sns.histplot(\n",
    "    data=df.isna().melt(value_name=\"NaN\"),\n",
    "    y=\"variable\",\n",
    "    hue=\"NaN\",\n",
    "    multiple=\"fill\"\n",
    ")"
   ]
  },
  {
   "cell_type": "code",
   "execution_count": null,
   "metadata": {},
   "outputs": [],
   "source": [
    "df.info()"
   ]
  },
  {
   "cell_type": "code",
   "execution_count": null,
   "metadata": {},
   "outputs": [],
   "source": [
    "df.to_csv('..\\Data\\winemag-data-130k-v2+extract.csv', sep=';')"
   ]
  },
  {
   "cell_type": "markdown",
   "metadata": {},
   "source": [
    "## Get weather information"
   ]
  },
  {
   "cell_type": "markdown",
   "metadata": {},
   "source": [
    "Die klimatischen Minimalanforderungen für den Weinbau liegen bei einer mittleren Jahrestemperatur von mindestens 9 Grad Celsius, einer Durchschnittstemperatur des wärmsten Monats von mindestens 18 Grad Celsius, einer maximalen Tiefsttemperatur im Winter von minus 13 Grad Celsius, mindestens 1.300 Sonnenstunden pro Jahr, einer jährlichen Niederschlagsmenge von mindestens 500 mm (in warmem Klima mindestens 750 mm) sowie einer Vegetationsperiode (der Zeit zwischen dem letzten und dem ersten Frost) von mindestens 180 Tagen. Die optimale Temperatur für das Traubenwachstum beträgt zwischen 25 und 28 Grad Celsius. Die Temperatur hängt maßgeblich davon ab, in welcher Höhe die Reben stehen; als Faustregel gilt, dass die Temperatur pro 100 Meter Höhenunterschied aufwärts um 0,6 Grad sinkt."
   ]
  },
  {
   "cell_type": "code",
   "execution_count": 9,
   "metadata": {},
   "outputs": [],
   "source": [
    "apikey = '02a31fd84c7c21a1119ad4a77fe43e6f'"
   ]
  },
  {
   "cell_type": "code",
   "execution_count": 3,
   "metadata": {},
   "outputs": [],
   "source": [
    "df = pd.read_csv('..\\Data\\winemag-data-130k-v2+extract.csv', index_col=0, delimiter=';')"
   ]
  },
  {
   "cell_type": "code",
   "execution_count": 4,
   "metadata": {},
   "outputs": [
    {
     "name": "stdout",
     "output_type": "stream",
     "text": [
      "<class 'pandas.core.frame.DataFrame'>\n",
      "Int64Index: 129971 entries, 0 to 129970\n",
      "Data columns (total 3 columns):\n",
      " #   Column    Non-Null Count   Dtype \n",
      "---  ------    --------------   ----- \n",
      " 0   country   129908 non-null  object\n",
      " 1   province  129908 non-null  object\n",
      " 2   region_1  108724 non-null  object\n",
      "dtypes: object(3)\n",
      "memory usage: 4.0+ MB\n"
     ]
    }
   ],
   "source": [
    "df = df[['country', 'province', 'region_1']]\n",
    "df.info()"
   ]
  },
  {
   "cell_type": "code",
   "execution_count": 5,
   "metadata": {},
   "outputs": [
    {
     "data": {
      "text/html": [
       "<div>\n",
       "<style scoped>\n",
       "    .dataframe tbody tr th:only-of-type {\n",
       "        vertical-align: middle;\n",
       "    }\n",
       "\n",
       "    .dataframe tbody tr th {\n",
       "        vertical-align: top;\n",
       "    }\n",
       "\n",
       "    .dataframe thead th {\n",
       "        text-align: right;\n",
       "    }\n",
       "</style>\n",
       "<table border=\"1\" class=\"dataframe\">\n",
       "  <thead>\n",
       "    <tr style=\"text-align: right;\">\n",
       "      <th></th>\n",
       "      <th>country</th>\n",
       "      <th>province</th>\n",
       "      <th>region_1</th>\n",
       "    </tr>\n",
       "  </thead>\n",
       "  <tbody>\n",
       "    <tr>\n",
       "      <th>0</th>\n",
       "      <td>Italy</td>\n",
       "      <td>Sicily &amp; Sardinia</td>\n",
       "      <td>Etna</td>\n",
       "    </tr>\n",
       "    <tr>\n",
       "      <th>1</th>\n",
       "      <td>Portugal</td>\n",
       "      <td>Douro</td>\n",
       "      <td>NaN</td>\n",
       "    </tr>\n",
       "    <tr>\n",
       "      <th>2</th>\n",
       "      <td>US</td>\n",
       "      <td>Oregon</td>\n",
       "      <td>Willamette Valley</td>\n",
       "    </tr>\n",
       "    <tr>\n",
       "      <th>3</th>\n",
       "      <td>US</td>\n",
       "      <td>Michigan</td>\n",
       "      <td>Lake Michigan Shore</td>\n",
       "    </tr>\n",
       "    <tr>\n",
       "      <th>4</th>\n",
       "      <td>US</td>\n",
       "      <td>Oregon</td>\n",
       "      <td>Willamette Valley</td>\n",
       "    </tr>\n",
       "    <tr>\n",
       "      <th>...</th>\n",
       "      <td>...</td>\n",
       "      <td>...</td>\n",
       "      <td>...</td>\n",
       "    </tr>\n",
       "    <tr>\n",
       "      <th>129966</th>\n",
       "      <td>Germany</td>\n",
       "      <td>Mosel</td>\n",
       "      <td>NaN</td>\n",
       "    </tr>\n",
       "    <tr>\n",
       "      <th>129967</th>\n",
       "      <td>US</td>\n",
       "      <td>Oregon</td>\n",
       "      <td>Oregon</td>\n",
       "    </tr>\n",
       "    <tr>\n",
       "      <th>129968</th>\n",
       "      <td>France</td>\n",
       "      <td>Alsace</td>\n",
       "      <td>Alsace</td>\n",
       "    </tr>\n",
       "    <tr>\n",
       "      <th>129969</th>\n",
       "      <td>France</td>\n",
       "      <td>Alsace</td>\n",
       "      <td>Alsace</td>\n",
       "    </tr>\n",
       "    <tr>\n",
       "      <th>129970</th>\n",
       "      <td>France</td>\n",
       "      <td>Alsace</td>\n",
       "      <td>Alsace</td>\n",
       "    </tr>\n",
       "  </tbody>\n",
       "</table>\n",
       "<p>129971 rows × 3 columns</p>\n",
       "</div>"
      ],
      "text/plain": [
       "         country           province             region_1\n",
       "0          Italy  Sicily & Sardinia                 Etna\n",
       "1       Portugal              Douro                  NaN\n",
       "2             US             Oregon    Willamette Valley\n",
       "3             US           Michigan  Lake Michigan Shore\n",
       "4             US             Oregon    Willamette Valley\n",
       "...          ...                ...                  ...\n",
       "129966   Germany              Mosel                  NaN\n",
       "129967        US             Oregon               Oregon\n",
       "129968    France             Alsace               Alsace\n",
       "129969    France             Alsace               Alsace\n",
       "129970    France             Alsace               Alsace\n",
       "\n",
       "[129971 rows x 3 columns]"
      ]
     },
     "execution_count": 5,
     "metadata": {},
     "output_type": "execute_result"
    }
   ],
   "source": [
    "df"
   ]
  },
  {
   "cell_type": "code",
   "execution_count": 5,
   "metadata": {},
   "outputs": [],
   "source": [
    "def getGeo(url):\n",
    "    response = requests.get(url)\n",
    "    data_str = response.json()\n",
    "    if (response.status_code != 200):\n",
    "        print(data_str)\n",
    "        return pd.NA, pd.NA\n",
    "    elif (len(data_str) > 0):\n",
    "        for entry in data_str:\n",
    "            return entry['lat'], entry['lon']\n",
    "    else:\n",
    "        return pd.NA, pd.NA"
   ]
  },
  {
   "cell_type": "code",
   "execution_count": 6,
   "metadata": {},
   "outputs": [],
   "source": [
    "def getTemp(url):\n",
    "    response = requests.get(url)\n",
    "    data_str = response.json()\n",
    "    if (response.status_code != 200):\n",
    "        #print(data_str)\n",
    "        return pd.NA, pd.NA, pd.NA\n",
    "    elif (len(data_str) > 0):\n",
    "        return (data_str['result']['temp']['median'] - 273.15), (data_str['result']['humidity']['median']), (data_str['result']['wind']['median'])\n",
    "    else:\n",
    "        return pd.NA, pd.NA, pd.NA"
   ]
  },
  {
   "cell_type": "code",
   "execution_count": 3,
   "metadata": {},
   "outputs": [
    {
     "data": {
      "text/plain": [
       "[Country(alpha_2='IT', alpha_3='ITA', flag='🇮🇹', name='Italy', numeric='380', official_name='Italian Republic')]"
      ]
     },
     "execution_count": 3,
     "metadata": {},
     "output_type": "execute_result"
    }
   ],
   "source": [
    "pc.countries.search_fuzzy('Italy')"
   ]
  },
  {
   "cell_type": "code",
   "execution_count": 10,
   "metadata": {},
   "outputs": [
    {
     "name": "stdout",
     "output_type": "stream",
     "text": [
      "0\n",
      "No country for: nan\n",
      "1000\n",
      "No country for: Italy\n"
     ]
    }
   ],
   "source": [
    "dict = {}\n",
    "lats = []\n",
    "lons = []\n",
    "\n",
    "for index, row in df.iterrows():\n",
    "    country = row['country']\n",
    "    province = row['province']\n",
    "    region = row['region_1']\n",
    "    \n",
    "    if (country == 'England'):\n",
    "        country = 'United Kingdom'\n",
    "    \n",
    "    try:\n",
    "        countryIso = pc.countries.search_fuzzy(country)\n",
    "    except:\n",
    "        print('No country for: ' + str(country))\n",
    "        lats.append(pd.NA)\n",
    "        lons.append(pd.NA)\n",
    "        continue\n",
    "    \n",
    "    url = \"http://pro.openweathermap.org/geo/1.0/direct?q=\"\n",
    "    if (pd.isna(province) is False):\n",
    "        url += str(province) + \",\"\n",
    "\n",
    "    if (pd.isna(country) is False):\n",
    "        url += str(countryIso[0].alpha_2)\n",
    "\n",
    "    url += \"&limit=1&appid=\" + apikey\n",
    "\n",
    "    if (index % 1000 == 0):\n",
    "        print(index)\n",
    "    \n",
    "    if (url in dict):\n",
    "        lat, lon = dict[url]\n",
    "        #print('got from dict:' + str(lat) + \",\" + str(lon))\n",
    "    else:\n",
    "        lat, lon = getGeo(url)\n",
    "        dict[url] = (lat, lon)\n",
    "        #print('got from url:' + str(lat) + \",\" + str(lon))\n",
    "    \n",
    "    lats.append(lat)\n",
    "    lons.append(lon)\n",
    "\n",
    "df['lat'] = lats\n",
    "df['lon'] = lons"
   ]
  },
  {
   "cell_type": "code",
   "execution_count": null,
   "metadata": {},
   "outputs": [],
   "source": [
    "df_dict = df.from_dict(dict).T"
   ]
  },
  {
   "cell_type": "code",
   "execution_count": null,
   "metadata": {},
   "outputs": [],
   "source": [
    "with open(\"geo.json\", \"w\") as write_file:\n",
    "    json.dump(df_dict.to_json(), write_file, indent=4)"
   ]
  },
  {
   "cell_type": "code",
   "execution_count": 9,
   "metadata": {},
   "outputs": [
    {
     "data": {
      "text/plain": [
       "<AxesSubplot: xlabel='Count', ylabel='variable'>"
      ]
     },
     "execution_count": 9,
     "metadata": {},
     "output_type": "execute_result"
    },
    {
     "data": {
      "image/png": "[encoded data removed]",
      "text/plain": [
       "<Figure size 640x480 with 1 Axes>"
      ]
     },
     "metadata": {},
     "output_type": "display_data"
    }
   ],
   "source": [
    "sns.histplot(\n",
    "    data=df.isna().melt(value_name=\"NaN\"),\n",
    "    y=\"variable\",\n",
    "    hue=\"NaN\",\n",
    "    multiple=\"fill\"\n",
    ")"
   ]
  },
  {
   "cell_type": "code",
   "execution_count": null,
   "metadata": {},
   "outputs": [],
   "source": [
    "df"
   ]
  },
  {
   "cell_type": "code",
   "execution_count": null,
   "metadata": {},
   "outputs": [],
   "source": [
    "print(alt.__version__)"
   ]
  },
  {
   "cell_type": "code",
   "execution_count": null,
   "metadata": {},
   "outputs": [],
   "source": [
    "alt.Chart(df).mark_circle().encode(\n",
    "    longitude='lon:Q',\n",
    "    latitude='lat:Q',\n",
    "    size=alt.value(10),\n",
    "    tooltip='name'\n",
    ").properties(\n",
    "    width=500,\n",
    "    height=400\n",
    ")"
   ]
  },
  {
   "cell_type": "code",
   "execution_count": null,
   "metadata": {},
   "outputs": [],
   "source": [
    "df.isna().sum()"
   ]
  },
  {
   "cell_type": "code",
   "execution_count": null,
   "metadata": {},
   "outputs": [],
   "source": [
    "df.info()"
   ]
  },
  {
   "cell_type": "code",
   "execution_count": null,
   "metadata": {},
   "outputs": [],
   "source": [
    "df.to_csv('..\\Data\\winemag-data-130k-v2+geo.csv', sep=';')"
   ]
  },
  {
   "cell_type": "code",
   "execution_count": null,
   "metadata": {},
   "outputs": [],
   "source": [
    "df = pd.read_csv('..\\Data\\winemag-data-130k-v2+geo.csv', index_col=0, delimiter=';')"
   ]
  },
  {
   "cell_type": "code",
   "execution_count": null,
   "metadata": {},
   "outputs": [],
   "source": [
    "df = df[:5000]\n",
    "df"
   ]
  },
  {
   "cell_type": "code",
   "execution_count": null,
   "metadata": {},
   "outputs": [],
   "source": [
    "dict = {}\n",
    "temps = []\n",
    "tempMin = []\n",
    "tempMax = []\n",
    "humidities = []\n",
    "winds = []\n",
    "location = []\n",
    "\n",
    "for index, row in df.iterrows():\n",
    "    lat = row['lat']\n",
    "    lon = row['lon']\n",
    "\n",
    "    if (pd.isna(lat) and pd.isna(lon)):\n",
    "        temps.append(pd.NA)\n",
    "        tempMin.append(pd.NA)\n",
    "        tempMax.append(pd.NA)\n",
    "        humidities.append(pd.NA)\n",
    "        winds.append(pd.NA)\n",
    "        location.append(pd.NA)\n",
    "        continue\n",
    "\n",
    "    date_time_start = datetime(2022, 1, 7, 13, 00)\n",
    "    unix_time_start = time.mktime(date_time_start.timetuple())\n",
    "\n",
    "    # check if location is in north or south of the earth\n",
    "    monthRange = [4,5,6,7,8,9,10]\n",
    "    if (lat >= 0):\n",
    "        location.append(1)\n",
    "    else:\n",
    "        monthRange = [10,11,12,1,2,3,4]\n",
    "        location.append(0)\n",
    "\n",
    "    # with our subscription we can only get data from last year.\n",
    "    tempList = []\n",
    "    humidityList = []\n",
    "    windList = []\n",
    "    for month in monthRange:\n",
    "        url = \"https://history.openweathermap.org/data/2.5/aggregated/month?lat=\"+str(round(lat, 2))+\"&lon=\"+str(round(lon, 2))+\"&month=\" + str(month) + \"&units=metric&appid=\" + apikey\n",
    "    \n",
    "        if (url in dict):\n",
    "            temp, humidity, wind = dict[url]\n",
    "            #print('got from dict:' + str(lat) + \",\" + str(lon))\n",
    "        else:\n",
    "            temp, humidity, wind = getTemp(url)\n",
    "            dict[url] = (temp, humidity, wind)\n",
    "            #print('got from url:' + str(lat) + \",\" + str(lon))\n",
    "        \n",
    "        tempList.append(temp)\n",
    "        humidityList.append(humidity)\n",
    "        windList.append(wind)\n",
    "\n",
    "    temps.append(mean(tempList))\n",
    "    tempMin.append(min(tempList))\n",
    "    tempMax.append(max(tempList))\n",
    "    humidities.append(mean(humidityList))\n",
    "    winds.append(mean(windList))\n",
    "\n",
    "df['temp'] = temps\n",
    "df['tempMin'] = tempMin\n",
    "df['tempMax'] = tempMax\n",
    "df['humidity'] = humidities\n",
    "df['wind'] = winds\n",
    "df['location'] = location\n",
    "df"
   ]
  },
  {
   "cell_type": "code",
   "execution_count": null,
   "metadata": {},
   "outputs": [],
   "source": [
    "df.to_csv('..\\Data\\winemag-data-130k-v2+temp.csv', sep=';')"
   ]
  },
  {
   "cell_type": "code",
   "execution_count": null,
   "metadata": {},
   "outputs": [],
   "source": [
    "#df = df = pd.read_csv('..\\Data\\winemag-data-130k-v2+geo.csv', index_col=0, delimiter=';')\n",
    "#df"
   ]
  },
  {
   "cell_type": "markdown",
   "metadata": {},
   "source": [
    "## Extract attributes from description"
   ]
  },
  {
   "cell_type": "code",
   "execution_count": null,
   "metadata": {},
   "outputs": [],
   "source": [
    "df = pd.read_csv('..\\Data\\winemag-data-130k-v2+extract.csv', index_col=0, delimiter=';')\n",
    "df_words = pd.read_csv('..\\Process\\wordlist_output.csv', delimiter=';')"
   ]
  },
  {
   "cell_type": "code",
   "execution_count": null,
   "metadata": {},
   "outputs": [],
   "source": [
    "df_words.sort_values('total', ascending=False, inplace=True)\n",
    "df_words.reset_index(drop=True, inplace=True)\n",
    "df_words"
   ]
  },
  {
   "cell_type": "code",
   "execution_count": null,
   "metadata": {},
   "outputs": [],
   "source": [
    "descriptions = df[['description']].values.tolist()"
   ]
  },
  {
   "cell_type": "code",
   "execution_count": null,
   "metadata": {},
   "outputs": [],
   "source": [
    "dict = {}\n",
    "words = []\n",
    "\n",
    "for description in descriptions:\n",
    "    attributes = []\n",
    "    for word in df_words['word']:\n",
    "        if word in description[0]:\n",
    "            attributes.append(word)\n",
    "\n",
    "    words.append(attributes)\n",
    "\n",
    "words"
   ]
  },
  {
   "cell_type": "code",
   "execution_count": null,
   "metadata": {},
   "outputs": [],
   "source": [
    "df['desc'] =  [','.join(ele) for ele in words]\n",
    "df"
   ]
  },
  {
   "cell_type": "code",
   "execution_count": null,
   "metadata": {},
   "outputs": [],
   "source": [
    "df.to_csv('..\\Data\\winemag-data-130k-v2+extract.csv', sep=';')"
   ]
  }
 ],
 "metadata": {
  "kernelspec": {
   "display_name": "stats",
   "language": "python",
   "name": "python3"
  },
  "language_info": {
   "codemirror_mode": {
    "name": "ipython",
    "version": 3
   },
   "file_extension": ".py",
   "mimetype": "text/x-python",
   "name": "python",
   "nbconvert_exporter": "python",
   "pygments_lexer": "ipython3",
   "version": "3.9.15"
  },
  "orig_nbformat": 4,
  "vscode": {
   "interpreter": {
    "hash": "3a0f3ad14519b735d3b531c9de039f00fb93fc5113abea86e8535c5e9fe3fe0f"
   }
  }
 },
 "nbformat": 4,
 "nbformat_minor": 2
}
