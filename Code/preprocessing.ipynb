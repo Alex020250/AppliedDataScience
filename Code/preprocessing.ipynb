{
 "cells": [
  {
   "cell_type": "markdown",
   "metadata": {},
   "source": [
    "# Wine project pre-processing"
   ]
  },
  {
   "cell_type": "code",
   "execution_count": 1,
   "metadata": {},
   "outputs": [],
   "source": [
    "import pandas as pd\n",
    "import requests\n",
    "import json\n",
    "import numpy as np\n",
    "import datetime\n",
    "import time\n",
    "import tweepy\n",
    "import re\n",
    "\n",
    "from datetime import datetime, timedelta"
   ]
  },
  {
   "cell_type": "code",
   "execution_count": 4,
   "metadata": {},
   "outputs": [],
   "source": [
    "df = pd.read_csv('..\\Data\\winemag-data-130k-v2.csv', index_col=0)"
   ]
  },
  {
   "cell_type": "markdown",
   "metadata": {},
   "source": [
    "## Extract information from title"
   ]
  },
  {
   "cell_type": "code",
   "execution_count": null,
   "metadata": {},
   "outputs": [],
   "source": [
    "titles = df[['title']].values.tolist()\n",
    "titles = [item for sublist in titles for item in sublist]\n",
    "titles"
   ]
  },
  {
   "cell_type": "code",
   "execution_count": null,
   "metadata": {},
   "outputs": [],
   "source": [
    "producer = []\n",
    "years = []\n",
    "vineyard_grape = []\n",
    "region = []\n",
    "\n",
    "for title in titles:\n",
    "    #print(title)\n",
    "    result = re.match(r'(\\w.+) (\\d*) ([^(]+) (\\(.*\\))', title)\n",
    "    if result:\n",
    "        #print(result.groups())\n",
    "        producer.append(result.group(1))\n",
    "        years.append(result.group(2))\n",
    "        vineyard_grape.append(result.group(3))\n",
    "        region.append(result.group(4)[1:-1])\n",
    "    else:\n",
    "        producer.append(0)\n",
    "        years.append(0)\n",
    "        vineyard_grape.append(0)\n",
    "        region.append(0)\n",
    "\n",
    "df['producer'] = producer\n",
    "df['year'] = years\n",
    "df['vineyard_grape'] = vineyard_grape\n",
    "df['region_from_name'] = region"
   ]
  },
  {
   "cell_type": "code",
   "execution_count": null,
   "metadata": {},
   "outputs": [],
   "source": [
    "df"
   ]
  },
  {
   "attachments": {},
   "cell_type": "markdown",
   "metadata": {},
   "source": [
    "## Get number of followers of the rating person"
   ]
  },
  {
   "cell_type": "code",
   "execution_count": null,
   "metadata": {},
   "outputs": [],
   "source": [
    "df['taster_twitter_handle']"
   ]
  },
  {
   "cell_type": "code",
   "execution_count": null,
   "metadata": {},
   "outputs": [],
   "source": [
    "# Enter your Twitter API credentials\n",
    "bearer_token = \"<insert bearer token from twitter API>\""
   ]
  },
  {
   "cell_type": "code",
   "execution_count": null,
   "metadata": {},
   "outputs": [],
   "source": [
    "def getFollowerCount(handle):\n",
    "    client = tweepy.Client(bearer_token)\n",
    "\n",
    "    # Get the follower count of a Twitter handle\n",
    "    user_ids = [handle]\n",
    "    response = client.get_users(usernames=user_ids, user_fields=[\"public_metrics\"])    \n",
    "\n",
    "    if (response.data):\n",
    "        for user in response.data:\n",
    "            return user.public_metrics['followers_count']\n",
    "    else:\n",
    "        print('Not found: ' + handle)\n",
    "        return 0"
   ]
  },
  {
   "cell_type": "code",
   "execution_count": null,
   "metadata": {},
   "outputs": [],
   "source": [
    "handles = df[['taster_twitter_handle']].values.tolist()\n",
    "handles"
   ]
  },
  {
   "cell_type": "code",
   "execution_count": null,
   "metadata": {},
   "outputs": [],
   "source": [
    "dict = {}\n",
    "followers = []\n",
    "\n",
    "for handle in handles:\n",
    "    value = handle[0]\n",
    "    print(value)\n",
    "\n",
    "    try:\n",
    "        result = re.match(r'@(\\w+)', value)\n",
    "    except:\n",
    "        print('error during parsing')\n",
    "        followers.append(0)\n",
    "        continue;\n",
    "\n",
    "    if result:\n",
    "        correct_handle = result.group(1)\n",
    "        #print(correct_handle)\n",
    "        if (correct_handle in dict):\n",
    "            follower_count = dict[correct_handle]\n",
    "            followers.append(follower_count)\n",
    "        else:\n",
    "            follower_count = getFollowerCount(correct_handle)\n",
    "            dict[correct_handle] = follower_count\n",
    "            followers.append(follower_count)\n",
    "\n",
    "df['followers'] = followers"
   ]
  },
  {
   "cell_type": "code",
   "execution_count": null,
   "metadata": {},
   "outputs": [],
   "source": [
    "df"
   ]
  },
  {
   "cell_type": "code",
   "execution_count": null,
   "metadata": {},
   "outputs": [],
   "source": [
    "df.to_csv('..\\Data\\winemag-data-130k-v2+extract.csv', sep=';')"
   ]
  },
  {
   "cell_type": "markdown",
   "metadata": {},
   "source": [
    "## Get weather information"
   ]
  },
  {
   "cell_type": "markdown",
   "metadata": {},
   "source": [
    "Die klimatischen Minimalanforderungen für den Weinbau liegen bei einer mittleren Jahrestemperatur von mindestens 9 Grad Celsius, einer Durchschnittstemperatur des wärmsten Monats von mindestens 18 Grad Celsius, einer maximalen Tiefsttemperatur im Winter von minus 13 Grad Celsius, mindestens 1.300 Sonnenstunden pro Jahr, einer jährlichen Niederschlagsmenge von mindestens 500 mm (in warmem Klima mindestens 750 mm) sowie einer Vegetationsperiode (der Zeit zwischen dem letzten und dem ersten Frost) von mindestens 180 Tagen. Die optimale Temperatur für das Traubenwachstum beträgt zwischen 25 und 28 Grad Celsius. Die Temperatur hängt maßgeblich davon ab, in welcher Höhe die Reben stehen; als Faustregel gilt, dass die Temperatur pro 100 Meter Höhenunterschied aufwärts um 0,6 Grad sinkt."
   ]
  },
  {
   "cell_type": "code",
   "execution_count": null,
   "metadata": {},
   "outputs": [],
   "source": [
    "apikey = '<insert openweather api key>'"
   ]
  },
  {
   "cell_type": "code",
   "execution_count": null,
   "metadata": {},
   "outputs": [],
   "source": [
    "df = df[['country', 'province', 'region_1']]\n",
    "df = df[:50000] # max. 50.000 request / day on historic API\n",
    "\n",
    "df.info()"
   ]
  },
  {
   "cell_type": "code",
   "execution_count": null,
   "metadata": {},
   "outputs": [],
   "source": [
    "def getGeo(url):\n",
    "    response = requests.get(url)\n",
    "    data_str = response.json()\n",
    "    if (response.status_code != 200):\n",
    "        print(data_str)\n",
    "        return 0, 0\n",
    "    elif (len(data_str) > 0):\n",
    "        for entry in data_str:\n",
    "            return entry['lat'], entry['lon']\n",
    "    else:\n",
    "        return 0, 0"
   ]
  },
  {
   "cell_type": "code",
   "execution_count": null,
   "metadata": {},
   "outputs": [],
   "source": [
    "def getTemp(url):\n",
    "    response = requests.get(url)\n",
    "    data_str = response.json()\n",
    "    if (response.status_code != 200):\n",
    "        print(data_str)\n",
    "        return 0, 0, 0\n",
    "    elif (len(data_str) > 0):\n",
    "        return (data_str['result']['temp']['median'] - 273.15), (data_str['result']['humidity']['median']), (data_str['result']['wind']['median'])\n",
    "    else:\n",
    "        return 0, 0, 0"
   ]
  },
  {
   "cell_type": "code",
   "execution_count": null,
   "metadata": {},
   "outputs": [],
   "source": [
    "dict = {}\n",
    "lats = []\n",
    "lons = []\n",
    "\n",
    "for index, row in df.iterrows():\n",
    "    country = row['country']\n",
    "    province = row['province']\n",
    "    region = row['region_1']\n",
    "\n",
    "    url = \"http://pro.openweathermap.org/geo/1.0/direct?q=\"\n",
    "    if (pd.isna(country) is False):\n",
    "        url += str(country) + \",\"\n",
    "\n",
    "    if (pd.isna(province) is False):\n",
    "        url += str(province) + \",\"\n",
    "    \n",
    "    if (pd.isna(region) is False):\n",
    "        url += str(region) + \",\"\n",
    "        \n",
    "    if (url[-1] == ','):\n",
    "        url = url[:-2]\n",
    "\n",
    "    url += \"&limit=1&appid=\" + apikey\n",
    "    \n",
    "    if (url in dict):\n",
    "        lat, lon = dict[url]\n",
    "        #print('got from dict:' + str(lat) + \",\" + str(lon))\n",
    "    else:\n",
    "        lat, lon = getGeo(url)\n",
    "        dict[url] = (lat, lon)\n",
    "        #print('got from url:' + str(lat) + \",\" + str(lon))\n",
    "    \n",
    "    lats.append(lat)\n",
    "    lons.append(lon)\n",
    "\n",
    "df['lat'] = lats\n",
    "df['lon'] = lons"
   ]
  },
  {
   "cell_type": "code",
   "execution_count": null,
   "metadata": {},
   "outputs": [],
   "source": [
    "df.to_csv('..\\Data\\winemag-data-130k-v2+geo.csv', sep=';')"
   ]
  },
  {
   "cell_type": "code",
   "execution_count": null,
   "metadata": {},
   "outputs": [],
   "source": [
    "dict = {}\n",
    "temps = []\n",
    "humidities = []\n",
    "winds = []\n",
    "\n",
    "for index, row in df.iterrows():\n",
    "    lat = row['lat']\n",
    "    lon = row['lon']\n",
    "\n",
    "    if (lat == 0 and lon == 0):\n",
    "        temps.append(0)\n",
    "        humidities.append(0)\n",
    "        winds.append(0)\n",
    "        continue\n",
    "\n",
    "    date_time_start = datetime(2022, 1, 7, 13, 00)\n",
    "    unix_time_start = time.mktime(date_time_start.timetuple())\n",
    "\n",
    "    # with our subscription we can only get data from last year.\n",
    "    url = \"https://history.openweathermap.org/data/2.5/aggregated/day?lat=\"+str(round(lat, 2))+\"&lon=\"+str(round(lon, 2))+\"&month=7&day=1&units=metric&appid=\" + apikey\n",
    "    \n",
    "    if (url in dict):\n",
    "        temp, humidity, wind = dict[url]\n",
    "        #print('got from dict:' + str(lat) + \",\" + str(lon))\n",
    "    else:\n",
    "        temp, humidity, wind = getTemp(url)\n",
    "        dict[url] = (temp, humidity, wind)\n",
    "        #print('got from url:' + str(lat) + \",\" + str(lon))\n",
    "    \n",
    "    temps.append(temp)\n",
    "    humidities.append(humidity)\n",
    "    winds.append(wind)\n",
    "\n",
    "df['temp'] = temps\n",
    "df['humidity'] = humidities\n",
    "df['wind'] = winds\n",
    "\n",
    "df"
   ]
  },
  {
   "cell_type": "code",
   "execution_count": null,
   "metadata": {},
   "outputs": [],
   "source": [
    "df.to_csv('..\\Data\\winemag-data-130k-v2+temp.csv', sep=';')"
   ]
  },
  {
   "cell_type": "code",
   "execution_count": null,
   "metadata": {},
   "outputs": [],
   "source": [
    "#df = df = pd.read_csv('..\\Data\\winemag-data-130k-v2+geo.csv', index_col=0, delimiter=';')\n",
    "#df"
   ]
  }
 ],
 "metadata": {
  "kernelspec": {
   "display_name": "stats",
   "language": "python",
   "name": "python3"
  },
  "language_info": {
   "codemirror_mode": {
    "name": "ipython",
    "version": 3
   },
   "file_extension": ".py",
   "mimetype": "text/x-python",
   "name": "python",
   "nbconvert_exporter": "python",
   "pygments_lexer": "ipython3",
   "version": "3.9.15"
  },
  "orig_nbformat": 4,
  "vscode": {
   "interpreter": {
    "hash": "3a0f3ad14519b735d3b531c9de039f00fb93fc5113abea86e8535c5e9fe3fe0f"
   }
  }
 },
 "nbformat": 4,
 "nbformat_minor": 2
}
